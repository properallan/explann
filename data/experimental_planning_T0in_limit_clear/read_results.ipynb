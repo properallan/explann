{
 "cells": [
  {
   "cell_type": "code",
   "execution_count": 40,
   "metadata": {},
   "outputs": [],
   "source": [
    "import sys\n",
    "sys.path.append('../../src')\n",
    "from flow_reconstruction import FlowReconstruction\n",
    "import pathlib\n",
    "import numpy as np\n",
    "import os\n",
    "import glob\n",
    "import pyvista as pv\n",
    "\n",
    "def lf_variable_getter(variables_dict, variable, solution_path):\n",
    "    outputs_path = pathlib.Path(solution_path) / 'outputs'\n",
    "    inputs_path = pathlib.Path(solution_path) / 'inputs'\n",
    "\n",
    "    if variables_dict[variable] in list(map(os.path.basename, glob.glob(f\"{outputs_path}/*\"))):\n",
    "        solution_path = pathlib.Path(solution_path) / 'outputs'\n",
    "    elif variables_dict[variable] in list(map(os.path.basename, glob.glob(f\"{inputs_path}/*\"))):\n",
    "        solution_path = pathlib.Path(solution_path) / 'inputs'\n",
    "    return np.loadtxt(solution_path / variables_dict[variable])\n",
    "\n",
    "\n",
    "def get_block_recursive(block, name_index):\n",
    "    for n in name_index:\n",
    "        block = block[n]\n",
    "    return block\n",
    "\n",
    "def hf_variable_gatter(variables_dict, variable, solution_file):\n",
    "    block = pv.read(solution_file)\n",
    "    return get_block_recursive(block, variables_dict[variable])\n",
    "\n",
    "fr = FlowReconstruction()\n",
    "fr.converged_solutions_id = np.arange(1,44)\n",
    "fr.dataset_root = pathlib.Path('/home/ppiper/ihtc_repository/data/experimental_planning_T0in_limit').resolve()\n",
    "fr.lf_solution_path = './Q1D/'\n",
    "fr.hf_solution_file = './SU2/outputs/cht_setupSU2.vtm'\n",
    "fr.doe_file = pathlib.Path('/home/ppiper/ihtc_repository/data/experimental_planning_T0in_limit/doe_experimental_planning.txt').resolve()\n",
    "\n",
    "fr.set_lf_variable_getter( lf_variable_getter, variables_dict={\n",
    "    'Pressure' : 'p.txt',\n",
    "    'Temperature' : 'T.txt',\n",
    "    'Mach' : 'M.txt',\n",
    "    'Area' : 'S.txt',\n",
    "})\n",
    "\n",
    "fr.set_hf_variable_getter( hf_variable_gatter, variables_dict={\n",
    "    'Pressure' : \n",
    "        ['Zone 0 (Comp. Fluid)','Internal','Internal','Pressure'],\n",
    "    'Temperature' :\n",
    "        ['Zone 0 (Comp. Fluid)','Internal','Internal','Temperature'],\n",
    "    'Mach' : \n",
    "        ['Zone 0 (Comp. Fluid)','Internal','Internal','Mach'] ,\n",
    "    'Temperature_Solid' :\n",
    "        ['Zone 1 (Solid Heat)', 'Internal', 'Internal', 'Temperature'] ,\n",
    "    'Temperature_Solid_INNERWALL' : \n",
    "        ['Zone 1 (Solid Heat)', 'Boundary', 'INNERWALL', 'Temperature'] ,\n",
    "    'Heat_Flux_UPPER_WALL' : \n",
    "        ['Zone 0 (Comp. Fluid)', 'Boundary','UPPER_WALL', 'Heat_Flux'] ,\n",
    "})\n"
   ]
  },
  {
   "cell_type": "code",
   "execution_count": 45,
   "metadata": {},
   "outputs": [],
   "source": [
    "lf_snapshots = fr.get_lf_snapshots(include_design_variables=True)\n",
    "hf_snapshots = fr.get_hf_snapshots(include_design_variables=True)\n",
    "fr.gen_lf_HDF5('lf.h5', include_design_variables=True)\n",
    "fr.gen_hf_HDF5('hf.h5', include_design_variables=True)"
   ]
  },
  {
   "cell_type": "code",
   "execution_count": 48,
   "metadata": {},
   "outputs": [
    {
     "name": "stdout",
     "output_type": "stream",
     "text": [
      "<HDF5 dataset \"Temperature\": shape (69300, 43), type \"<f8\">\n"
     ]
    }
   ],
   "source": [
    "import h5py\n",
    "\n",
    "with h5py.File('hf.h5', 'r') as f:\n",
    "    print(f['Temperature'])"
   ]
  },
  {
   "cell_type": "code",
   "execution_count": 95,
   "metadata": {},
   "outputs": [],
   "source": [
    "import pyvista as pv\n",
    "\n",
    "for ii in range(1,44):\n",
    "    mesh = pv.read(f'/home/ppiper/ihtc_repository/data/experimental_planning_T0in_limit_clear/{ii}/SU2/outputs/cht_setupSU2.vtm')\n",
    "\n",
    "    for i in range(0,mesh.n_blocks):\n",
    "        for j in range(0, mesh[i].n_blocks):\n",
    "            for k in range(0, mesh[i][j].n_blocks):\n",
    "                mesh[i][j][k].clear_data()\n",
    "\n",
    "    mesh.save(f'/home/ppiper/ihtc_repository/data/experimental_planning_T0in_limit_clear/{ii}/SU2/outputs/cht_setupSU2.vtm')"
   ]
  }
 ],
 "metadata": {
  "kernelspec": {
   "display_name": "Python 3",
   "language": "python",
   "name": "python3"
  },
  "language_info": {
   "codemirror_mode": {
    "name": "ipython",
    "version": 3
   },
   "file_extension": ".py",
   "mimetype": "text/x-python",
   "name": "python",
   "nbconvert_exporter": "python",
   "pygments_lexer": "ipython3",
   "version": "3.11.2"
  },
  "orig_nbformat": 4
 },
 "nbformat": 4,
 "nbformat_minor": 2
}
