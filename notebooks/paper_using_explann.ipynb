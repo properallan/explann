{
 "cells": [
  {
   "attachments": {},
   "cell_type": "markdown",
   "metadata": {},
   "source": [
    "# Experimental Planning Applied to Energetic Process - ENE108\n",
    "\n",
    "Dr. Fernando Gasi; Dra. Graziella Colato Antonio; Dra. Juliana Tófano de Campos Leite Toneli\n",
    "\n",
    "\n",
    "# Article Selected\n",
    "\n",
    "\n",
    "The economical feasibility of ethanol production using lignocellulosic biomass is primarilly dependent on the cost of the required enzymes, e.g. celullase. By this reason there is and increasing interest in optimizing the process of obtaining this enzymes. In the article [Nitrogen Source Optimization for Cellulase Production\n",
    "by Penicillium funiculosum, using a Sequential\n",
    "Experimental Design Methodology and the Desirability\n",
    "Function](https://link.springer.com/content/pdf/10.1007/s12010-009-8875-6.pdf?pdf=button), the authors used three sucessice designs of experiments to optimize celullase production. The incremental methodology consists of sucessively cut off irrelevant terms in models obtained by a $2^4$ and $2^3$ factorial designs and finally perform ANOVA in a central composite rotational design. \n",
    "\n",
    "# Variables and Levels\n",
    "\n",
    "# Responses\n",
    "\n",
    "# Matrices of experiments\n",
    "\n",
    "# ANOVA\n",
    "\n",
    "# Hypotesis\n",
    "\n",
    "The main hypotesis is that a sequential methodology for experimental design can be efficiently used to optmizethe the production of celullase by *Penicillinum funiculosum*. \n",
    "\n",
    "# Cellulalse Production Process\n",
    "\n",
    "For optimization of cellulase production, the independent variables considered were 4 different sources of nitrogen:\n",
    "\n",
    "- Urea (`Urea`)\n",
    "- Ammonium Sulfate (`AmmoniumSulfate`)\n",
    "- Peptone (`Peptone`)\n",
    "- Yeast Extract (`YeastExtract`)\n",
    "\n",
    "# $2^4$ Factorial Experiment\n",
    "\n",
    "for the first experiment all independent variables was considered on a factorial design with two levels and three central points as described in the table below"
   ]
  },
  {
   "attachments": {},
   "cell_type": "markdown",
   "metadata": {},
   "source": [
    "| Urea | AmmoniumSulfate | Peptone | YeastExtract | FPase | CMCase | BetaGlucosidase |\n",
    "|-----:|----------------:|--------:|-------------:|------:|-------:|-----------------|\n",
    "|   -1 |              -1 |      -1 |           -1 |    39 |  1.328 | 170             |\n",
    "|    1 |              -1 |      -1 |           -1 |    87 |  1.699 | 122             |\n",
    "|   -1 |               1 |      -1 |           -1 |    48 |  1.332 | 473             |\n",
    "|    1 |               1 |      -1 |           -1 |    71 |  1.979 | 511             |\n",
    "|   -1 |              -1 |       1 |           -1 |    43 |  1.458 | 156             |\n",
    "|    1 |              -1 |       1 |           -1 |    84 |  2.189 | 204             |\n",
    "|   -1 |               1 |       1 |           -1 |    45 |  1.343 | 385             |\n",
    "|    1 |               1 |       1 |           -1 |   112 |  1.707 | 288             |\n",
    "|   -1 |              -1 |      -1 |            1 |    19 |  1.257 | 114             |\n",
    "|    1 |              -1 |      -1 |            1 |   146 |  2.148 | 116             |\n",
    "|   -1 |               1 |      -1 |            1 |    50 |  1.592 | 244             |\n",
    "|    1 |               1 |      -1 |            1 |    92 |  1.726 | 126             |\n",
    "|   -1 |              -1 |       1 |            1 |   107 |  1.203 | 72              |\n",
    "|    1 |              -1 |       1 |            1 |   172 |  2.261 | 210             |\n",
    "|   -1 |               1 |       1 |            1 |    62 |  1.434 | 234             |\n",
    "|    1 |               1 |       1 |            1 |    82 |  1.848 | 154             |\n",
    "|    0 |               0 |       0 |            0 |    75 |  1.726 | 223             |\n",
    "|    0 |               0 |       0 |            0 |    70 |  1.782 | 219             |\n",
    "|    0 |               0 |       0 |            0 |    89 |  1.753 | 226             |"
   ]
  },
  {
   "cell_type": "code",
   "execution_count": 1,
   "metadata": {},
   "outputs": [],
   "source": [
    "import sys\n",
    "sys.path.append('/home/ppiper/Dropbox/local/github/explann')\n",
    "\n",
    "from explann.dataio import ImportData\n",
    "\n",
    "table_24 = ImportData(\"\"\"\n",
    "U;A;P;Y;F;C;B\n",
    "-1;-1;-1;-1;39;1.328;170\n",
    "1;-1;-1;-1;87;1.699;122\n",
    "-1;1;-1;-1;48;1.332;473\n",
    "1;1;-1;-1;71;1.979;511\n",
    "-1;-1;1;-1;43;1.458;156\n",
    "1;-1;1;-1;84;2.189;204\n",
    "-1;1;1;-1;45;1.343;385\n",
    "1;1;1;-1;112;1.707;288\n",
    "-1;-1;-1;1;19;1.257;114\n",
    "1;-1;-1;1;146;2.148;116\n",
    "-1;1;-1;1;50;1.592;244\n",
    "1;1;-1;1;92;1.726;126\n",
    "-1;-1;1;1;107;1.203;72\n",
    "1;-1;1;1;172;2.261;210\n",
    "-1;1;1;1;62;1.434;234\n",
    "1;1;1;1;82;1.848;154\n",
    "0;0;0;0;75;1.726;223\n",
    "0;0;0;0;70;1.782;219\n",
    "0;0;0;0;89;1.753;226\n",
    "\"\"\")\n",
    "\n"
   ]
  },
  {
   "cell_type": "code",
   "execution_count": 2,
   "metadata": {},
   "outputs": [
    {
     "data": {
      "text/html": [
       "<div>\n",
       "<style scoped>\n",
       "    .dataframe tbody tr th:only-of-type {\n",
       "        vertical-align: middle;\n",
       "    }\n",
       "\n",
       "    .dataframe tbody tr th {\n",
       "        vertical-align: top;\n",
       "    }\n",
       "\n",
       "    .dataframe thead th {\n",
       "        text-align: right;\n",
       "    }\n",
       "</style>\n",
       "<table border=\"1\" class=\"dataframe\">\n",
       "  <thead>\n",
       "    <tr style=\"text-align: right;\">\n",
       "      <th></th>\n",
       "      <th>U</th>\n",
       "      <th>A</th>\n",
       "      <th>P</th>\n",
       "      <th>Y</th>\n",
       "      <th>F</th>\n",
       "      <th>C</th>\n",
       "      <th>B</th>\n",
       "    </tr>\n",
       "  </thead>\n",
       "  <tbody>\n",
       "    <tr>\n",
       "      <th>0</th>\n",
       "      <td>-1</td>\n",
       "      <td>-1</td>\n",
       "      <td>-1</td>\n",
       "      <td>-1</td>\n",
       "      <td>39</td>\n",
       "      <td>1.328</td>\n",
       "      <td>170</td>\n",
       "    </tr>\n",
       "    <tr>\n",
       "      <th>1</th>\n",
       "      <td>1</td>\n",
       "      <td>-1</td>\n",
       "      <td>-1</td>\n",
       "      <td>-1</td>\n",
       "      <td>87</td>\n",
       "      <td>1.699</td>\n",
       "      <td>122</td>\n",
       "    </tr>\n",
       "    <tr>\n",
       "      <th>2</th>\n",
       "      <td>-1</td>\n",
       "      <td>1</td>\n",
       "      <td>-1</td>\n",
       "      <td>-1</td>\n",
       "      <td>48</td>\n",
       "      <td>1.332</td>\n",
       "      <td>473</td>\n",
       "    </tr>\n",
       "    <tr>\n",
       "      <th>3</th>\n",
       "      <td>1</td>\n",
       "      <td>1</td>\n",
       "      <td>-1</td>\n",
       "      <td>-1</td>\n",
       "      <td>71</td>\n",
       "      <td>1.979</td>\n",
       "      <td>511</td>\n",
       "    </tr>\n",
       "    <tr>\n",
       "      <th>4</th>\n",
       "      <td>-1</td>\n",
       "      <td>-1</td>\n",
       "      <td>1</td>\n",
       "      <td>-1</td>\n",
       "      <td>43</td>\n",
       "      <td>1.458</td>\n",
       "      <td>156</td>\n",
       "    </tr>\n",
       "    <tr>\n",
       "      <th>5</th>\n",
       "      <td>1</td>\n",
       "      <td>-1</td>\n",
       "      <td>1</td>\n",
       "      <td>-1</td>\n",
       "      <td>84</td>\n",
       "      <td>2.189</td>\n",
       "      <td>204</td>\n",
       "    </tr>\n",
       "    <tr>\n",
       "      <th>6</th>\n",
       "      <td>-1</td>\n",
       "      <td>1</td>\n",
       "      <td>1</td>\n",
       "      <td>-1</td>\n",
       "      <td>45</td>\n",
       "      <td>1.343</td>\n",
       "      <td>385</td>\n",
       "    </tr>\n",
       "    <tr>\n",
       "      <th>7</th>\n",
       "      <td>1</td>\n",
       "      <td>1</td>\n",
       "      <td>1</td>\n",
       "      <td>-1</td>\n",
       "      <td>112</td>\n",
       "      <td>1.707</td>\n",
       "      <td>288</td>\n",
       "    </tr>\n",
       "    <tr>\n",
       "      <th>8</th>\n",
       "      <td>-1</td>\n",
       "      <td>-1</td>\n",
       "      <td>-1</td>\n",
       "      <td>1</td>\n",
       "      <td>19</td>\n",
       "      <td>1.257</td>\n",
       "      <td>114</td>\n",
       "    </tr>\n",
       "    <tr>\n",
       "      <th>9</th>\n",
       "      <td>1</td>\n",
       "      <td>-1</td>\n",
       "      <td>-1</td>\n",
       "      <td>1</td>\n",
       "      <td>146</td>\n",
       "      <td>2.148</td>\n",
       "      <td>116</td>\n",
       "    </tr>\n",
       "    <tr>\n",
       "      <th>10</th>\n",
       "      <td>-1</td>\n",
       "      <td>1</td>\n",
       "      <td>-1</td>\n",
       "      <td>1</td>\n",
       "      <td>50</td>\n",
       "      <td>1.592</td>\n",
       "      <td>244</td>\n",
       "    </tr>\n",
       "    <tr>\n",
       "      <th>11</th>\n",
       "      <td>1</td>\n",
       "      <td>1</td>\n",
       "      <td>-1</td>\n",
       "      <td>1</td>\n",
       "      <td>92</td>\n",
       "      <td>1.726</td>\n",
       "      <td>126</td>\n",
       "    </tr>\n",
       "    <tr>\n",
       "      <th>12</th>\n",
       "      <td>-1</td>\n",
       "      <td>-1</td>\n",
       "      <td>1</td>\n",
       "      <td>1</td>\n",
       "      <td>107</td>\n",
       "      <td>1.203</td>\n",
       "      <td>72</td>\n",
       "    </tr>\n",
       "    <tr>\n",
       "      <th>13</th>\n",
       "      <td>1</td>\n",
       "      <td>-1</td>\n",
       "      <td>1</td>\n",
       "      <td>1</td>\n",
       "      <td>172</td>\n",
       "      <td>2.261</td>\n",
       "      <td>210</td>\n",
       "    </tr>\n",
       "    <tr>\n",
       "      <th>14</th>\n",
       "      <td>-1</td>\n",
       "      <td>1</td>\n",
       "      <td>1</td>\n",
       "      <td>1</td>\n",
       "      <td>62</td>\n",
       "      <td>1.434</td>\n",
       "      <td>234</td>\n",
       "    </tr>\n",
       "    <tr>\n",
       "      <th>15</th>\n",
       "      <td>1</td>\n",
       "      <td>1</td>\n",
       "      <td>1</td>\n",
       "      <td>1</td>\n",
       "      <td>82</td>\n",
       "      <td>1.848</td>\n",
       "      <td>154</td>\n",
       "    </tr>\n",
       "    <tr>\n",
       "      <th>16</th>\n",
       "      <td>0</td>\n",
       "      <td>0</td>\n",
       "      <td>0</td>\n",
       "      <td>0</td>\n",
       "      <td>75</td>\n",
       "      <td>1.726</td>\n",
       "      <td>223</td>\n",
       "    </tr>\n",
       "    <tr>\n",
       "      <th>17</th>\n",
       "      <td>0</td>\n",
       "      <td>0</td>\n",
       "      <td>0</td>\n",
       "      <td>0</td>\n",
       "      <td>70</td>\n",
       "      <td>1.782</td>\n",
       "      <td>219</td>\n",
       "    </tr>\n",
       "    <tr>\n",
       "      <th>18</th>\n",
       "      <td>0</td>\n",
       "      <td>0</td>\n",
       "      <td>0</td>\n",
       "      <td>0</td>\n",
       "      <td>89</td>\n",
       "      <td>1.753</td>\n",
       "      <td>226</td>\n",
       "    </tr>\n",
       "  </tbody>\n",
       "</table>\n",
       "</div>"
      ],
      "text/plain": [
       "    U  A  P  Y    F      C    B\n",
       "0  -1 -1 -1 -1   39  1.328  170\n",
       "1   1 -1 -1 -1   87  1.699  122\n",
       "2  -1  1 -1 -1   48  1.332  473\n",
       "3   1  1 -1 -1   71  1.979  511\n",
       "4  -1 -1  1 -1   43  1.458  156\n",
       "5   1 -1  1 -1   84  2.189  204\n",
       "6  -1  1  1 -1   45  1.343  385\n",
       "7   1  1  1 -1  112  1.707  288\n",
       "8  -1 -1 -1  1   19  1.257  114\n",
       "9   1 -1 -1  1  146  2.148  116\n",
       "10 -1  1 -1  1   50  1.592  244\n",
       "11  1  1 -1  1   92  1.726  126\n",
       "12 -1 -1  1  1  107  1.203   72\n",
       "13  1 -1  1  1  172  2.261  210\n",
       "14 -1  1  1  1   62  1.434  234\n",
       "15  1  1  1  1   82  1.848  154\n",
       "16  0  0  0  0   75  1.726  223\n",
       "17  0  0  0  0   70  1.782  219\n",
       "18  0  0  0  0   89  1.753  226"
      ]
     },
     "execution_count": 2,
     "metadata": {},
     "output_type": "execute_result"
    }
   ],
   "source": [
    "table_24.data"
   ]
  },
  {
   "cell_type": "code",
   "execution_count": 3,
   "metadata": {},
   "outputs": [],
   "source": [
    "#table_24.parse_levels(\"\"\";U;A;P;Y\n",
    "#-1;0.15;0.7; 0.40;0.13\n",
    "#0; 0.30;1.4; 0.75;0.26\n",
    "#1; 0.45;2.1; 1.10;0.38\"\"\")"
   ]
  },
  {
   "cell_type": "code",
   "execution_count": 4,
   "metadata": {},
   "outputs": [],
   "source": [
    "\n",
    "from explann.models import FactorialModel"
   ]
  },
  {
   "cell_type": "code",
   "execution_count": 5,
   "metadata": {},
   "outputs": [
    {
     "name": "stdout",
     "output_type": "stream",
     "text": [
      "                            OLS Regression Results                            \n",
      "==============================================================================\n",
      "Dep. Variable:                      C   R-squared:                       0.986\n",
      "Model:                            OLS   Adj. R-squared:                  0.917\n",
      "Method:                 Least Squares   F-statistic:                     14.24\n",
      "Date:                Wed, 12 Jul 2023   Prob (F-statistic):             0.0250\n",
      "Time:                        14:43:42   Log-Likelihood:                 35.898\n",
      "No. Observations:                  19   AIC:                            -39.80\n",
      "Df Residuals:                       3   BIC:                            -24.69\n",
      "Df Model:                          15                                         \n",
      "Covariance Type:            nonrobust                                         \n",
      "==============================================================================\n",
      "                 coef    std err          t      P>|t|      [0.025      0.975]\n",
      "------------------------------------------------------------------------------\n",
      "Intercept      1.6718      0.021     79.166      0.000       1.605       1.739\n",
      "U              0.2881      0.023     12.520      0.001       0.215       0.361\n",
      "A             -0.0364      0.023     -1.581      0.212      -0.110       0.037\n",
      "U:A           -0.0932      0.023     -4.052      0.027      -0.166      -0.020\n",
      "P              0.0239      0.023      1.037      0.376      -0.049       0.097\n",
      "U:P            0.0328      0.023      1.423      0.250      -0.040       0.106\n",
      "A:P           -0.0610      0.023     -2.651      0.077      -0.134       0.012\n",
      "U:A:P         -0.0331      0.023     -1.439      0.246      -0.106       0.040\n",
      "Y              0.0271      0.023      1.179      0.323      -0.046       0.100\n",
      "U:Y            0.0240      0.023      1.043      0.374      -0.049       0.097\n",
      "A:Y            0.0028      0.023      0.119      0.912      -0.070       0.076\n",
      "U:A:Y         -0.0819      0.023     -3.558      0.038      -0.155      -0.009\n",
      "P:Y           -0.0210      0.023     -0.913      0.429      -0.094       0.052\n",
      "U:P:Y          0.0231      0.023      1.005      0.389      -0.050       0.096\n",
      "A:P:Y          0.0491      0.023      2.135      0.122      -0.024       0.122\n",
      "U:A:P:Y        0.0473      0.023      2.053      0.132      -0.026       0.120\n",
      "==============================================================================\n",
      "Omnibus:                       19.927   Durbin-Watson:                   0.346\n",
      "Prob(Omnibus):                  0.000   Jarque-Bera (JB):               20.834\n",
      "Skew:                           2.121   Prob(JB):                     2.99e-05\n",
      "Kurtosis:                       5.884   Cond. No.                         1.09\n",
      "==============================================================================\n",
      "\n",
      "Notes:\n",
      "[1] Standard Errors assume that the covariance matrix of the errors is correctly specified.\n"
     ]
    },
    {
     "name": "stderr",
     "output_type": "stream",
     "text": [
      "/home/ppiper/micromamba/envs/explann/lib/python3.11/site-packages/scipy/stats/_stats_py.py:1736: UserWarning: kurtosistest only valid for n>=20 ... continuing anyway, n=19\n",
      "  warnings.warn(\"kurtosistest only valid for n>=20 ... continuing \"\n"
     ]
    }
   ],
   "source": [
    "fm = FactorialModel(\n",
    "    data=table_24.data, \n",
    "    functions=\n",
    "    {\n",
    "        \"F\" : \"F ~ U * A * P * Y\",\n",
    "        \"C\" : \"C ~ U * A * P * Y\",\n",
    "        \"B\" : \"B ~ U * A * P * Y\"\n",
    "    })\n",
    "\n",
    "print(fm['C'].summary())"
   ]
  },
  {
   "cell_type": "code",
   "execution_count": 6,
   "metadata": {},
   "outputs": [
    {
     "data": {
      "text/html": [
       "<div>\n",
       "<style scoped>\n",
       "    .dataframe tbody tr th:only-of-type {\n",
       "        vertical-align: middle;\n",
       "    }\n",
       "\n",
       "    .dataframe tbody tr th {\n",
       "        vertical-align: top;\n",
       "    }\n",
       "\n",
       "    .dataframe thead th {\n",
       "        text-align: right;\n",
       "    }\n",
       "</style>\n",
       "<table border=\"1\" class=\"dataframe\">\n",
       "  <thead>\n",
       "    <tr style=\"text-align: right;\">\n",
       "      <th></th>\n",
       "      <th>df</th>\n",
       "      <th>sum_sq</th>\n",
       "      <th>mean_sq</th>\n",
       "      <th>F</th>\n",
       "      <th>PR(&gt;F)</th>\n",
       "    </tr>\n",
       "  </thead>\n",
       "  <tbody>\n",
       "    <tr>\n",
       "      <th>U</th>\n",
       "      <td>1.0</td>\n",
       "      <td>855.562500</td>\n",
       "      <td>855.562500</td>\n",
       "      <td>94.020123</td>\n",
       "      <td>0.002329</td>\n",
       "    </tr>\n",
       "    <tr>\n",
       "      <th>A</th>\n",
       "      <td>1.0</td>\n",
       "      <td>97812.562500</td>\n",
       "      <td>97812.562500</td>\n",
       "      <td>10748.892276</td>\n",
       "      <td>0.000002</td>\n",
       "    </tr>\n",
       "    <tr>\n",
       "      <th>U:A</th>\n",
       "      <td>1.0</td>\n",
       "      <td>9850.562500</td>\n",
       "      <td>9850.562500</td>\n",
       "      <td>1082.505483</td>\n",
       "      <td>0.000062</td>\n",
       "    </tr>\n",
       "    <tr>\n",
       "      <th>P</th>\n",
       "      <td>1.0</td>\n",
       "      <td>1870.562500</td>\n",
       "      <td>1870.562500</td>\n",
       "      <td>205.561272</td>\n",
       "      <td>0.000735</td>\n",
       "    </tr>\n",
       "    <tr>\n",
       "      <th>U:P</th>\n",
       "      <td>1.0</td>\n",
       "      <td>1139.062500</td>\n",
       "      <td>1139.062500</td>\n",
       "      <td>125.174720</td>\n",
       "      <td>0.001531</td>\n",
       "    </tr>\n",
       "    <tr>\n",
       "      <th>A:P</th>\n",
       "      <td>1.0</td>\n",
       "      <td>10660.562500</td>\n",
       "      <td>10660.562500</td>\n",
       "      <td>1171.518617</td>\n",
       "      <td>0.000055</td>\n",
       "    </tr>\n",
       "    <tr>\n",
       "      <th>U:A:P</th>\n",
       "      <td>1.0</td>\n",
       "      <td>6765.062500</td>\n",
       "      <td>6765.062500</td>\n",
       "      <td>743.431377</td>\n",
       "      <td>0.000108</td>\n",
       "    </tr>\n",
       "    <tr>\n",
       "      <th>Y</th>\n",
       "      <td>1.0</td>\n",
       "      <td>67470.062500</td>\n",
       "      <td>67470.062500</td>\n",
       "      <td>7414.471262</td>\n",
       "      <td>0.000003</td>\n",
       "    </tr>\n",
       "    <tr>\n",
       "      <th>U:Y</th>\n",
       "      <td>1.0</td>\n",
       "      <td>0.062500</td>\n",
       "      <td>0.062500</td>\n",
       "      <td>0.006868</td>\n",
       "      <td>0.939171</td>\n",
       "    </tr>\n",
       "    <tr>\n",
       "      <th>A:Y</th>\n",
       "      <td>1.0</td>\n",
       "      <td>36005.062500</td>\n",
       "      <td>36005.062500</td>\n",
       "      <td>3956.695626</td>\n",
       "      <td>0.000009</td>\n",
       "    </tr>\n",
       "    <tr>\n",
       "      <th>U:A:Y</th>\n",
       "      <td>1.0</td>\n",
       "      <td>4865.062500</td>\n",
       "      <td>4865.062500</td>\n",
       "      <td>534.635137</td>\n",
       "      <td>0.000177</td>\n",
       "    </tr>\n",
       "    <tr>\n",
       "      <th>P:Y</th>\n",
       "      <td>1.0</td>\n",
       "      <td>6123.062500</td>\n",
       "      <td>6123.062500</td>\n",
       "      <td>672.880227</td>\n",
       "      <td>0.000126</td>\n",
       "    </tr>\n",
       "    <tr>\n",
       "      <th>U:P:Y</th>\n",
       "      <td>1.0</td>\n",
       "      <td>2835.562500</td>\n",
       "      <td>2835.562500</td>\n",
       "      <td>311.607784</td>\n",
       "      <td>0.000396</td>\n",
       "    </tr>\n",
       "    <tr>\n",
       "      <th>A:P:Y</th>\n",
       "      <td>1.0</td>\n",
       "      <td>7439.062500</td>\n",
       "      <td>7439.062500</td>\n",
       "      <td>817.499096</td>\n",
       "      <td>0.000094</td>\n",
       "    </tr>\n",
       "    <tr>\n",
       "      <th>U:A:P:Y</th>\n",
       "      <td>1.0</td>\n",
       "      <td>1105.562500</td>\n",
       "      <td>1105.562500</td>\n",
       "      <td>121.493312</td>\n",
       "      <td>0.001599</td>\n",
       "    </tr>\n",
       "    <tr>\n",
       "      <th>Residual</th>\n",
       "      <td>3.0</td>\n",
       "      <td>27.299342</td>\n",
       "      <td>9.099781</td>\n",
       "      <td>NaN</td>\n",
       "      <td>NaN</td>\n",
       "    </tr>\n",
       "  </tbody>\n",
       "</table>\n",
       "</div>"
      ],
      "text/plain": [
       "           df        sum_sq       mean_sq             F    PR(>F)\n",
       "U         1.0    855.562500    855.562500     94.020123  0.002329\n",
       "A         1.0  97812.562500  97812.562500  10748.892276  0.000002\n",
       "U:A       1.0   9850.562500   9850.562500   1082.505483  0.000062\n",
       "P         1.0   1870.562500   1870.562500    205.561272  0.000735\n",
       "U:P       1.0   1139.062500   1139.062500    125.174720  0.001531\n",
       "A:P       1.0  10660.562500  10660.562500   1171.518617  0.000055\n",
       "U:A:P     1.0   6765.062500   6765.062500    743.431377  0.000108\n",
       "Y         1.0  67470.062500  67470.062500   7414.471262  0.000003\n",
       "U:Y       1.0      0.062500      0.062500      0.006868  0.939171\n",
       "A:Y       1.0  36005.062500  36005.062500   3956.695626  0.000009\n",
       "U:A:Y     1.0   4865.062500   4865.062500    534.635137  0.000177\n",
       "P:Y       1.0   6123.062500   6123.062500    672.880227  0.000126\n",
       "U:P:Y     1.0   2835.562500   2835.562500    311.607784  0.000396\n",
       "A:P:Y     1.0   7439.062500   7439.062500    817.499096  0.000094\n",
       "U:A:P:Y   1.0   1105.562500   1105.562500    121.493312  0.001599\n",
       "Residual  3.0     27.299342      9.099781           NaN       NaN"
      ]
     },
     "execution_count": 6,
     "metadata": {},
     "output_type": "execute_result"
    }
   ],
   "source": [
    "fm.anova()['B']"
   ]
  },
  {
   "cell_type": "code",
   "execution_count": 7,
   "metadata": {},
   "outputs": [
    {
     "data": {
      "text/plain": [
       "{'F': 'F ~ U * A * P * Y', 'C': 'C ~ U * A * P * Y'}"
      ]
     },
     "execution_count": 7,
     "metadata": {},
     "output_type": "execute_result"
    }
   ],
   "source": [
    "functions = {key:val for key,val in fm.functions.items() if key in ['F','C']}\n",
    "functions"
   ]
  },
  {
   "cell_type": "code",
   "execution_count": 8,
   "metadata": {},
   "outputs": [
    {
     "data": {
      "text/plain": [
       "{'F':            df        sum_sq       mean_sq           F    PR(>F)\n",
       " U         1.0  11718.062500  11718.062500  180.098637  0.000895\n",
       " A         1.0   1139.062500   1139.062500   17.506615  0.024881\n",
       " U:A       1.0   1040.062500   1040.062500   15.985052  0.028043\n",
       " P         1.0   1501.562500   1501.562500   23.077993  0.017170\n",
       " U:P       1.0    138.062500    138.062500    2.121927  0.241243\n",
       " A:P       1.0    351.562500    351.562500    5.403276  0.102662\n",
       " U:A:P     1.0    517.562500    517.562500    7.954583  0.066717\n",
       " Y         1.0   2525.062500   2525.062500   38.808490  0.008341\n",
       " U:Y       1.0    351.562500    351.562500    5.403276  0.102662\n",
       " A:Y       1.0   2047.562500   2047.562500   31.469641  0.011196\n",
       " U:A:Y     1.0   1072.562500   1072.562500   16.484555  0.026934\n",
       " P:Y       1.0    370.562500    370.562500    5.695293  0.097049\n",
       " U:P:Y     1.0    915.062500    915.062500   14.063887  0.033112\n",
       " A:P:Y     1.0   1387.562500   1387.562500   21.325890  0.019110\n",
       " U:A:P:Y   1.0      7.562500      7.562500    0.116230  0.755639\n",
       " Residual  3.0    195.194079     65.064693         NaN       NaN,\n",
       " 'C':            df    sum_sq   mean_sq           F    PR(>F)\n",
       " U         1.0  1.328256  1.328256  156.753983  0.001098\n",
       " A         1.0  0.021170  0.021170    2.498404  0.212096\n",
       " U:A       1.0  0.139129  0.139129   16.419290  0.027075\n",
       " P         1.0  0.009120  0.009120    1.076325  0.375801\n",
       " U:P       1.0  0.017161  0.017161    2.025253  0.249872\n",
       " A:P       1.0  0.059536  0.059536    7.026133  0.076949\n",
       " U:A:P     1.0  0.017556  0.017556    2.071898  0.245642\n",
       " Y         1.0  0.011772  0.011772    1.389301  0.323498\n",
       " U:Y       1.0  0.009216  0.009216    1.087625  0.373644\n",
       " A:Y       1.0  0.000121  0.000121    0.014280  0.912434\n",
       " U:A:Y     1.0  0.107256  0.107256   12.657832  0.037880\n",
       " P:Y       1.0  0.007056  0.007056    0.832713  0.428774\n",
       " U:P:Y     1.0  0.008556  0.008556    1.009765  0.388993\n",
       " A:P:Y     1.0  0.038612  0.038612    4.556819  0.122469\n",
       " U:A:P:Y   1.0  0.035721  0.035721    4.215609  0.132357\n",
       " Residual  3.0  0.025421  0.008474         NaN       NaN,\n",
       " 'B':            df        sum_sq       mean_sq             F    PR(>F)\n",
       " U         1.0    855.562500    855.562500     94.020123  0.002329\n",
       " A         1.0  97812.562500  97812.562500  10748.892276  0.000002\n",
       " U:A       1.0   9850.562500   9850.562500   1082.505483  0.000062\n",
       " P         1.0   1870.562500   1870.562500    205.561272  0.000735\n",
       " U:P       1.0   1139.062500   1139.062500    125.174720  0.001531\n",
       " A:P       1.0  10660.562500  10660.562500   1171.518617  0.000055\n",
       " U:A:P     1.0   6765.062500   6765.062500    743.431377  0.000108\n",
       " Y         1.0  67470.062500  67470.062500   7414.471262  0.000003\n",
       " U:Y       1.0      0.062500      0.062500      0.006868  0.939171\n",
       " A:Y       1.0  36005.062500  36005.062500   3956.695626  0.000009\n",
       " U:A:Y     1.0   4865.062500   4865.062500    534.635137  0.000177\n",
       " P:Y       1.0   6123.062500   6123.062500    672.880227  0.000126\n",
       " U:P:Y     1.0   2835.562500   2835.562500    311.607784  0.000396\n",
       " A:P:Y     1.0   7439.062500   7439.062500    817.499096  0.000094\n",
       " U:A:P:Y   1.0   1105.562500   1105.562500    121.493312  0.001599\n",
       " Residual  3.0     27.299342      9.099781           NaN       NaN}"
      ]
     },
     "execution_count": 8,
     "metadata": {},
     "output_type": "execute_result"
    }
   ],
   "source": [
    "fm.anova()"
   ]
  },
  {
   "cell_type": "code",
   "execution_count": 9,
   "metadata": {},
   "outputs": [
    {
     "ename": "PatsyError",
     "evalue": "Error evaluating factor: TypeError: 'Series' object is not callable\n    F ~ 1 + C(U) + C(A) + C(U):C(A) + C(P) + C(U):C(P) + C(A):C(P) + C(U):C(A):C(P) + C(Y) + C(U):C(Y) + C(A):C(Y) + C(U):C(A):C(Y) + C(P):C(Y) + C(U):C(P):C(Y) + C(A):C(P):C(Y) + C(U):C(A):C(P):C(Y)\n                   ^^^^",
     "output_type": "error",
     "traceback": [
      "\u001b[0;31m---------------------------------------------------------------------------\u001b[0m",
      "\u001b[0;31mTypeError\u001b[0m                                 Traceback (most recent call last)",
      "File \u001b[0;32m~/micromamba/envs/explann/lib/python3.11/site-packages/patsy/compat.py:36\u001b[0m, in \u001b[0;36mcall_and_wrap_exc\u001b[0;34m(msg, origin, f, *args, **kwargs)\u001b[0m\n\u001b[1;32m     35\u001b[0m \u001b[39mtry\u001b[39;00m:\n\u001b[0;32m---> 36\u001b[0m     \u001b[39mreturn\u001b[39;00m f(\u001b[39m*\u001b[39;49margs, \u001b[39m*\u001b[39;49m\u001b[39m*\u001b[39;49mkwargs)\n\u001b[1;32m     37\u001b[0m \u001b[39mexcept\u001b[39;00m \u001b[39mException\u001b[39;00m \u001b[39mas\u001b[39;00m e:\n",
      "File \u001b[0;32m~/micromamba/envs/explann/lib/python3.11/site-packages/patsy/eval.py:169\u001b[0m, in \u001b[0;36mEvalEnvironment.eval\u001b[0;34m(self, expr, source_name, inner_namespace)\u001b[0m\n\u001b[1;32m    168\u001b[0m code \u001b[39m=\u001b[39m \u001b[39mcompile\u001b[39m(expr, source_name, \u001b[39m\"\u001b[39m\u001b[39meval\u001b[39m\u001b[39m\"\u001b[39m, \u001b[39mself\u001b[39m\u001b[39m.\u001b[39mflags, \u001b[39mFalse\u001b[39;00m)\n\u001b[0;32m--> 169\u001b[0m \u001b[39mreturn\u001b[39;00m \u001b[39meval\u001b[39m(code, {}, VarLookupDict([inner_namespace]\n\u001b[1;32m    170\u001b[0m                                     \u001b[39m+\u001b[39m \u001b[39mself\u001b[39m\u001b[39m.\u001b[39m_namespaces))\n",
      "File \u001b[0;32m<string>:1\u001b[0m\n",
      "\u001b[0;31mTypeError\u001b[0m: 'Series' object is not callable",
      "\nThe above exception was the direct cause of the following exception:\n",
      "\u001b[0;31mPatsyError\u001b[0m                                Traceback (most recent call last)",
      "Cell \u001b[0;32mIn[9], line 1\u001b[0m\n\u001b[0;32m----> 1\u001b[0m fm\u001b[39m.\u001b[39;49mlack_of_fit()\n",
      "File \u001b[0;32m~/Dropbox/local/github/explann/explann/models/_base.py:286\u001b[0m, in \u001b[0;36mFactorialModel.lack_of_fit\u001b[0;34m(self, function, baseline, alpha)\u001b[0m\n\u001b[1;32m    282\u001b[0m     factor_data \u001b[39m=\u001b[39m \u001b[39mself\u001b[39m\u001b[39m.\u001b[39mdata\u001b[39m.\u001b[39mcopy()\n\u001b[1;32m    284\u001b[0m     functions \u001b[39m=\u001b[39m {key:add_categorical(val) \u001b[39mfor\u001b[39;00m key,val \u001b[39min\u001b[39;00m \u001b[39mself\u001b[39m\u001b[39m.\u001b[39mfunctions\u001b[39m.\u001b[39mitems() \u001b[39mif\u001b[39;00m key \u001b[39min\u001b[39;00m function}\n\u001b[0;32m--> 286\u001b[0m     factor_model \u001b[39m=\u001b[39m FactorialModel(\n\u001b[1;32m    287\u001b[0m         data \u001b[39m=\u001b[39;49m factor_data,\n\u001b[1;32m    288\u001b[0m         functions \u001b[39m=\u001b[39;49m functions,\n\u001b[1;32m    289\u001b[0m         statsmodel \u001b[39m=\u001b[39;49m \u001b[39mself\u001b[39;49m\u001b[39m.\u001b[39;49mstatsmodel\n\u001b[1;32m    290\u001b[0m     )\n\u001b[1;32m    292\u001b[0m \u001b[39mif\u001b[39;00m \u001b[39misinstance\u001b[39m(function, \u001b[39mlist\u001b[39m) \u001b[39mor\u001b[39;00m \u001b[39misinstance\u001b[39m(function, \u001b[39mtuple\u001b[39m):\n\u001b[1;32m    293\u001b[0m     return_dict \u001b[39m=\u001b[39m {}\n",
      "File \u001b[0;32m~/Dropbox/local/github/explann/explann/models/_base.py:34\u001b[0m, in \u001b[0;36mFactorialModel.__init__\u001b[0;34m(self, data, functions, statsmodel)\u001b[0m\n\u001b[1;32m     31\u001b[0m \u001b[39mself\u001b[39m\u001b[39m.\u001b[39mstatsmodel \u001b[39m=\u001b[39m statsmodel\n\u001b[1;32m     32\u001b[0m \u001b[39mself\u001b[39m\u001b[39m.\u001b[39mfunctions \u001b[39m=\u001b[39m functions\n\u001b[0;32m---> 34\u001b[0m \u001b[39mself\u001b[39m\u001b[39m.\u001b[39mmodel \u001b[39m=\u001b[39m \u001b[39mself\u001b[39;49m\u001b[39m.\u001b[39;49mfit(\n\u001b[1;32m     35\u001b[0m     data\u001b[39m=\u001b[39;49mdata,\n\u001b[1;32m     36\u001b[0m     functions\u001b[39m=\u001b[39;49mfunctions, \n\u001b[1;32m     37\u001b[0m     statsmodel\u001b[39m=\u001b[39;49mstatsmodel\n\u001b[1;32m     38\u001b[0m )\n",
      "File \u001b[0;32m~/Dropbox/local/github/explann/explann/models/_base.py:56\u001b[0m, in \u001b[0;36mFactorialModel.fit\u001b[0;34m(self, data, functions, statsmodel)\u001b[0m\n\u001b[1;32m     54\u001b[0m         function_name \u001b[39m=\u001b[39m splited[\u001b[39m0\u001b[39m]\u001b[39m.\u001b[39mstrip()\n\u001b[1;32m     55\u001b[0m         function_body \u001b[39m=\u001b[39m splited[\u001b[39m1\u001b[39m]\u001b[39m.\u001b[39mstrip()\n\u001b[0;32m---> 56\u001b[0m         model_dict[key] \u001b[39m=\u001b[39m \u001b[39mself\u001b[39;49m\u001b[39m.\u001b[39;49mstatsmodel(function, data)\u001b[39m.\u001b[39mfit()\n\u001b[1;32m     57\u001b[0m \u001b[39melse\u001b[39;00m:\n\u001b[1;32m     58\u001b[0m     \u001b[39mprint\u001b[39m(\u001b[39m'\u001b[39m\u001b[39mmust provide function formulas\u001b[39m\u001b[39m'\u001b[39m)\n",
      "File \u001b[0;32m~/micromamba/envs/explann/lib/python3.11/site-packages/statsmodels/base/model.py:203\u001b[0m, in \u001b[0;36mModel.from_formula\u001b[0;34m(cls, formula, data, subset, drop_cols, *args, **kwargs)\u001b[0m\n\u001b[1;32m    200\u001b[0m \u001b[39mif\u001b[39;00m missing \u001b[39m==\u001b[39m \u001b[39m'\u001b[39m\u001b[39mnone\u001b[39m\u001b[39m'\u001b[39m:  \u001b[39m# with patsy it's drop or raise. let's raise.\u001b[39;00m\n\u001b[1;32m    201\u001b[0m     missing \u001b[39m=\u001b[39m \u001b[39m'\u001b[39m\u001b[39mraise\u001b[39m\u001b[39m'\u001b[39m\n\u001b[0;32m--> 203\u001b[0m tmp \u001b[39m=\u001b[39m handle_formula_data(data, \u001b[39mNone\u001b[39;49;00m, formula, depth\u001b[39m=\u001b[39;49meval_env,\n\u001b[1;32m    204\u001b[0m                           missing\u001b[39m=\u001b[39;49mmissing)\n\u001b[1;32m    205\u001b[0m ((endog, exog), missing_idx, design_info) \u001b[39m=\u001b[39m tmp\n\u001b[1;32m    206\u001b[0m max_endog \u001b[39m=\u001b[39m \u001b[39mcls\u001b[39m\u001b[39m.\u001b[39m_formula_max_endog\n",
      "File \u001b[0;32m~/micromamba/envs/explann/lib/python3.11/site-packages/statsmodels/formula/formulatools.py:63\u001b[0m, in \u001b[0;36mhandle_formula_data\u001b[0;34m(Y, X, formula, depth, missing)\u001b[0m\n\u001b[1;32m     61\u001b[0m \u001b[39melse\u001b[39;00m:\n\u001b[1;32m     62\u001b[0m     \u001b[39mif\u001b[39;00m data_util\u001b[39m.\u001b[39m_is_using_pandas(Y, \u001b[39mNone\u001b[39;00m):\n\u001b[0;32m---> 63\u001b[0m         result \u001b[39m=\u001b[39m dmatrices(formula, Y, depth, return_type\u001b[39m=\u001b[39;49m\u001b[39m'\u001b[39;49m\u001b[39mdataframe\u001b[39;49m\u001b[39m'\u001b[39;49m,\n\u001b[1;32m     64\u001b[0m                            NA_action\u001b[39m=\u001b[39;49mna_action)\n\u001b[1;32m     65\u001b[0m     \u001b[39melse\u001b[39;00m:\n\u001b[1;32m     66\u001b[0m         result \u001b[39m=\u001b[39m dmatrices(formula, Y, depth, return_type\u001b[39m=\u001b[39m\u001b[39m'\u001b[39m\u001b[39mdataframe\u001b[39m\u001b[39m'\u001b[39m,\n\u001b[1;32m     67\u001b[0m                            NA_action\u001b[39m=\u001b[39mna_action)\n",
      "File \u001b[0;32m~/micromamba/envs/explann/lib/python3.11/site-packages/patsy/highlevel.py:309\u001b[0m, in \u001b[0;36mdmatrices\u001b[0;34m(formula_like, data, eval_env, NA_action, return_type)\u001b[0m\n\u001b[1;32m    299\u001b[0m \u001b[39m\u001b[39m\u001b[39m\"\"\"Construct two design matrices given a formula_like and data.\u001b[39;00m\n\u001b[1;32m    300\u001b[0m \n\u001b[1;32m    301\u001b[0m \u001b[39mThis function is identical to :func:`dmatrix`, except that it requires\u001b[39;00m\n\u001b[0;32m   (...)\u001b[0m\n\u001b[1;32m    306\u001b[0m \u001b[39mSee :func:`dmatrix` for details.\u001b[39;00m\n\u001b[1;32m    307\u001b[0m \u001b[39m\"\"\"\u001b[39;00m\n\u001b[1;32m    308\u001b[0m eval_env \u001b[39m=\u001b[39m EvalEnvironment\u001b[39m.\u001b[39mcapture(eval_env, reference\u001b[39m=\u001b[39m\u001b[39m1\u001b[39m)\n\u001b[0;32m--> 309\u001b[0m (lhs, rhs) \u001b[39m=\u001b[39m _do_highlevel_design(formula_like, data, eval_env,\n\u001b[1;32m    310\u001b[0m                                   NA_action, return_type)\n\u001b[1;32m    311\u001b[0m \u001b[39mif\u001b[39;00m lhs\u001b[39m.\u001b[39mshape[\u001b[39m1\u001b[39m] \u001b[39m==\u001b[39m \u001b[39m0\u001b[39m:\n\u001b[1;32m    312\u001b[0m     \u001b[39mraise\u001b[39;00m PatsyError(\u001b[39m\"\u001b[39m\u001b[39mmodel is missing required outcome variables\u001b[39m\u001b[39m\"\u001b[39m)\n",
      "File \u001b[0;32m~/micromamba/envs/explann/lib/python3.11/site-packages/patsy/highlevel.py:164\u001b[0m, in \u001b[0;36m_do_highlevel_design\u001b[0;34m(formula_like, data, eval_env, NA_action, return_type)\u001b[0m\n\u001b[1;32m    162\u001b[0m \u001b[39mdef\u001b[39;00m \u001b[39mdata_iter_maker\u001b[39m():\n\u001b[1;32m    163\u001b[0m     \u001b[39mreturn\u001b[39;00m \u001b[39miter\u001b[39m([data])\n\u001b[0;32m--> 164\u001b[0m design_infos \u001b[39m=\u001b[39m _try_incr_builders(formula_like, data_iter_maker, eval_env,\n\u001b[1;32m    165\u001b[0m                                   NA_action)\n\u001b[1;32m    166\u001b[0m \u001b[39mif\u001b[39;00m design_infos \u001b[39mis\u001b[39;00m \u001b[39mnot\u001b[39;00m \u001b[39mNone\u001b[39;00m:\n\u001b[1;32m    167\u001b[0m     \u001b[39mreturn\u001b[39;00m build_design_matrices(design_infos, data,\n\u001b[1;32m    168\u001b[0m                                  NA_action\u001b[39m=\u001b[39mNA_action,\n\u001b[1;32m    169\u001b[0m                                  return_type\u001b[39m=\u001b[39mreturn_type)\n",
      "File \u001b[0;32m~/micromamba/envs/explann/lib/python3.11/site-packages/patsy/highlevel.py:66\u001b[0m, in \u001b[0;36m_try_incr_builders\u001b[0;34m(formula_like, data_iter_maker, eval_env, NA_action)\u001b[0m\n\u001b[1;32m     64\u001b[0m \u001b[39mif\u001b[39;00m \u001b[39misinstance\u001b[39m(formula_like, ModelDesc):\n\u001b[1;32m     65\u001b[0m     \u001b[39massert\u001b[39;00m \u001b[39misinstance\u001b[39m(eval_env, EvalEnvironment)\n\u001b[0;32m---> 66\u001b[0m     \u001b[39mreturn\u001b[39;00m design_matrix_builders([formula_like\u001b[39m.\u001b[39;49mlhs_termlist,\n\u001b[1;32m     67\u001b[0m                                    formula_like\u001b[39m.\u001b[39;49mrhs_termlist],\n\u001b[1;32m     68\u001b[0m                                   data_iter_maker,\n\u001b[1;32m     69\u001b[0m                                   eval_env,\n\u001b[1;32m     70\u001b[0m                                   NA_action)\n\u001b[1;32m     71\u001b[0m \u001b[39melse\u001b[39;00m:\n\u001b[1;32m     72\u001b[0m     \u001b[39mreturn\u001b[39;00m \u001b[39mNone\u001b[39;00m\n",
      "File \u001b[0;32m~/micromamba/envs/explann/lib/python3.11/site-packages/patsy/build.py:693\u001b[0m, in \u001b[0;36mdesign_matrix_builders\u001b[0;34m(termlists, data_iter_maker, eval_env, NA_action)\u001b[0m\n\u001b[1;32m    689\u001b[0m factor_states \u001b[39m=\u001b[39m _factors_memorize(all_factors, data_iter_maker, eval_env)\n\u001b[1;32m    690\u001b[0m \u001b[39m# Now all the factors have working eval methods, so we can evaluate them\u001b[39;00m\n\u001b[1;32m    691\u001b[0m \u001b[39m# on some data to find out what type of data they return.\u001b[39;00m\n\u001b[1;32m    692\u001b[0m (num_column_counts,\n\u001b[0;32m--> 693\u001b[0m  cat_levels_contrasts) \u001b[39m=\u001b[39m _examine_factor_types(all_factors,\n\u001b[1;32m    694\u001b[0m                                                factor_states,\n\u001b[1;32m    695\u001b[0m                                                data_iter_maker,\n\u001b[1;32m    696\u001b[0m                                                NA_action)\n\u001b[1;32m    697\u001b[0m \u001b[39m# Now we need the factor infos, which encapsulate the knowledge of\u001b[39;00m\n\u001b[1;32m    698\u001b[0m \u001b[39m# how to turn any given factor into a chunk of data:\u001b[39;00m\n\u001b[1;32m    699\u001b[0m factor_infos \u001b[39m=\u001b[39m {}\n",
      "File \u001b[0;32m~/micromamba/envs/explann/lib/python3.11/site-packages/patsy/build.py:443\u001b[0m, in \u001b[0;36m_examine_factor_types\u001b[0;34m(factors, factor_states, data_iter_maker, NA_action)\u001b[0m\n\u001b[1;32m    441\u001b[0m \u001b[39mfor\u001b[39;00m data \u001b[39min\u001b[39;00m data_iter_maker():\n\u001b[1;32m    442\u001b[0m     \u001b[39mfor\u001b[39;00m factor \u001b[39min\u001b[39;00m \u001b[39mlist\u001b[39m(examine_needed):\n\u001b[0;32m--> 443\u001b[0m         value \u001b[39m=\u001b[39m factor\u001b[39m.\u001b[39;49meval(factor_states[factor], data)\n\u001b[1;32m    444\u001b[0m         \u001b[39mif\u001b[39;00m factor \u001b[39min\u001b[39;00m cat_sniffers \u001b[39mor\u001b[39;00m guess_categorical(value):\n\u001b[1;32m    445\u001b[0m             \u001b[39mif\u001b[39;00m factor \u001b[39mnot\u001b[39;00m \u001b[39min\u001b[39;00m cat_sniffers:\n",
      "File \u001b[0;32m~/micromamba/envs/explann/lib/python3.11/site-packages/patsy/eval.py:568\u001b[0m, in \u001b[0;36mEvalFactor.eval\u001b[0;34m(self, memorize_state, data)\u001b[0m\n\u001b[1;32m    567\u001b[0m \u001b[39mdef\u001b[39;00m \u001b[39meval\u001b[39m(\u001b[39mself\u001b[39m, memorize_state, data):\n\u001b[0;32m--> 568\u001b[0m     \u001b[39mreturn\u001b[39;00m \u001b[39mself\u001b[39;49m\u001b[39m.\u001b[39;49m_eval(memorize_state[\u001b[39m\"\u001b[39;49m\u001b[39meval_code\u001b[39;49m\u001b[39m\"\u001b[39;49m],\n\u001b[1;32m    569\u001b[0m                       memorize_state,\n\u001b[1;32m    570\u001b[0m                       data)\n",
      "File \u001b[0;32m~/micromamba/envs/explann/lib/python3.11/site-packages/patsy/eval.py:551\u001b[0m, in \u001b[0;36mEvalFactor._eval\u001b[0;34m(self, code, memorize_state, data)\u001b[0m\n\u001b[1;32m    549\u001b[0m \u001b[39mdef\u001b[39;00m \u001b[39m_eval\u001b[39m(\u001b[39mself\u001b[39m, code, memorize_state, data):\n\u001b[1;32m    550\u001b[0m     inner_namespace \u001b[39m=\u001b[39m VarLookupDict([data, memorize_state[\u001b[39m\"\u001b[39m\u001b[39mtransforms\u001b[39m\u001b[39m\"\u001b[39m]])\n\u001b[0;32m--> 551\u001b[0m     \u001b[39mreturn\u001b[39;00m call_and_wrap_exc(\u001b[39m\"\u001b[39;49m\u001b[39mError evaluating factor\u001b[39;49m\u001b[39m\"\u001b[39;49m,\n\u001b[1;32m    552\u001b[0m                              \u001b[39mself\u001b[39;49m,\n\u001b[1;32m    553\u001b[0m                              memorize_state[\u001b[39m\"\u001b[39;49m\u001b[39meval_env\u001b[39;49m\u001b[39m\"\u001b[39;49m]\u001b[39m.\u001b[39;49meval,\n\u001b[1;32m    554\u001b[0m                              code,\n\u001b[1;32m    555\u001b[0m                              inner_namespace\u001b[39m=\u001b[39;49minner_namespace)\n",
      "File \u001b[0;32m~/micromamba/envs/explann/lib/python3.11/site-packages/patsy/compat.py:43\u001b[0m, in \u001b[0;36mcall_and_wrap_exc\u001b[0;34m(msg, origin, f, *args, **kwargs)\u001b[0m\n\u001b[1;32m     39\u001b[0m     new_exc \u001b[39m=\u001b[39m PatsyError(\u001b[39m\"\u001b[39m\u001b[39m%s\u001b[39;00m\u001b[39m: \u001b[39m\u001b[39m%s\u001b[39;00m\u001b[39m: \u001b[39m\u001b[39m%s\u001b[39;00m\u001b[39m\"\u001b[39m\n\u001b[1;32m     40\u001b[0m                          \u001b[39m%\u001b[39m (msg, e\u001b[39m.\u001b[39m\u001b[39m__class__\u001b[39m\u001b[39m.\u001b[39m\u001b[39m__name__\u001b[39m, e),\n\u001b[1;32m     41\u001b[0m                          origin)\n\u001b[1;32m     42\u001b[0m     \u001b[39m# Use 'exec' to hide this syntax from the Python 2 parser:\u001b[39;00m\n\u001b[0;32m---> 43\u001b[0m     exec(\u001b[39m\"\u001b[39m\u001b[39mraise new_exc from e\u001b[39m\u001b[39m\"\u001b[39m)\n\u001b[1;32m     44\u001b[0m \u001b[39melse\u001b[39;00m:\n\u001b[1;32m     45\u001b[0m     \u001b[39m# In python 2, we just let the original exception escape -- better\u001b[39;00m\n\u001b[1;32m     46\u001b[0m     \u001b[39m# than destroying the traceback. But if it's a PatsyError, we can\u001b[39;00m\n\u001b[1;32m     47\u001b[0m     \u001b[39m# at least set the origin properly.\u001b[39;00m\n\u001b[1;32m     48\u001b[0m     \u001b[39mif\u001b[39;00m \u001b[39misinstance\u001b[39m(e, PatsyError):\n",
      "File \u001b[0;32m<string>:1\u001b[0m\n",
      "\u001b[0;31mPatsyError\u001b[0m: Error evaluating factor: TypeError: 'Series' object is not callable\n    F ~ 1 + C(U) + C(A) + C(U):C(A) + C(P) + C(U):C(P) + C(A):C(P) + C(U):C(A):C(P) + C(Y) + C(U):C(Y) + C(A):C(Y) + C(U):C(A):C(Y) + C(P):C(Y) + C(U):C(P):C(Y) + C(A):C(P):C(Y) + C(U):C(A):C(P):C(Y)\n                   ^^^^"
     ]
    }
   ],
   "source": [
    "fm.lack_of_fit()"
   ]
  },
  {
   "cell_type": "code",
   "execution_count": null,
   "metadata": {},
   "outputs": [
    {
     "data": {
      "text/plain": [
       "['Intercept', 'U', 'A', 'U:A', 'P', 'Y', 'A:Y', 'U:A:Y', 'U:P:Y', 'A:P:Y']"
      ]
     },
     "execution_count": 13,
     "metadata": {},
     "output_type": "execute_result"
    }
   ],
   "source": [
    "fm.get_significant_terms('F')\n",
    "\n"
   ]
  },
  {
   "cell_type": "code",
   "execution_count": null,
   "metadata": {},
   "outputs": [
    {
     "data": {
      "text/plain": [
       "{'F': 'F ~ 1 + U + A + U:A + P + Y + A:Y + U:A:Y + U:P:Y + A:P:Y'}"
      ]
     },
     "execution_count": 14,
     "metadata": {},
     "output_type": "execute_result"
    }
   ],
   "source": [
    "fm.get_significant_model_functions('F')"
   ]
  },
  {
   "cell_type": "code",
   "execution_count": null,
   "metadata": {},
   "outputs": [],
   "source": [
    "sig_fm = fm.build_significant_models()"
   ]
  },
  {
   "cell_type": "code",
   "execution_count": null,
   "metadata": {},
   "outputs": [
    {
     "data": {
      "text/plain": [
       "['Intercept', 'U', 'A', 'U:A', 'P', 'Y', 'A:Y', 'U:A:Y', 'U:P:Y', 'A:P:Y']"
      ]
     },
     "execution_count": 26,
     "metadata": {},
     "output_type": "execute_result"
    }
   ],
   "source": [
    "fm.get_significant_terms('F')"
   ]
  },
  {
   "cell_type": "code",
   "execution_count": null,
   "metadata": {},
   "outputs": [
    {
     "data": {
      "text/plain": [
       "['Intercept', 'U', 'A', 'P', 'Y', 'A:Y', 'A:P:Y']"
      ]
     },
     "execution_count": 25,
     "metadata": {},
     "output_type": "execute_result"
    }
   ],
   "source": [
    "sig_fm.get_significant_terms('F')"
   ]
  },
  {
   "cell_type": "code",
   "execution_count": null,
   "metadata": {},
   "outputs": [
    {
     "data": {
      "text/plain": [
       "{'results':    df_resid          ssr  df_diff   ss_diff         F    Pr(>F)\n",
       " 0       9.0  1932.069079      0.0       NaN       NaN       NaN\n",
       " 1       3.0   195.194079      6.0  1736.875  4.449098  0.124072,\n",
       " 'lack_of_fit': 1736.875,\n",
       " 'pure_error': 195.19407894736844}"
      ]
     },
     "execution_count": 16,
     "metadata": {},
     "output_type": "execute_result"
    }
   ],
   "source": [
    "sig_fm.lack_of_fit(baseline=fm)['F']"
   ]
  },
  {
   "cell_type": "code",
   "execution_count": null,
   "metadata": {},
   "outputs": [
    {
     "name": "stderr",
     "output_type": "stream",
     "text": [
      "/home/ppiper/micromamba/envs/explann/lib/python3.11/site-packages/scipy/stats/_stats_py.py:1736: UserWarning: kurtosistest only valid for n>=20 ... continuing anyway, n=19\n",
      "  warnings.warn(\"kurtosistest only valid for n>=20 ... continuing \"\n"
     ]
    },
    {
     "data": {
      "text/html": [
       "<table class=\"simpletable\">\n",
       "<tr>\n",
       "        <td>Model:</td>               <td>OLS</td>         <td>Adj. R-squared:</td>     <td>0.847</td> \n",
       "</tr>\n",
       "<tr>\n",
       "  <td>Dependent Variable:</td>         <td>F</td>               <td>AIC:</td>         <td>161.7359</td>\n",
       "</tr>\n",
       "<tr>\n",
       "         <td>Date:</td>        <td>2023-07-10 21:57</td>        <td>BIC:</td>         <td>171.1803</td>\n",
       "</tr>\n",
       "<tr>\n",
       "   <td>No. Observations:</td>         <td>19</td>          <td>Log-Likelihood:</td>    <td>-70.868</td>\n",
       "</tr>\n",
       "<tr>\n",
       "       <td>Df Model:</td>              <td>9</td>           <td>F-statistic:</td>       <td>12.08</td> \n",
       "</tr>\n",
       "<tr>\n",
       "     <td>Df Residuals:</td>            <td>9</td>        <td>Prob (F-statistic):</td> <td>0.000499</td>\n",
       "</tr>\n",
       "<tr>\n",
       "      <td>R-squared:</td>            <td>0.924</td>            <td>Scale:</td>         <td>214.67</td> \n",
       "</tr>\n",
       "</table>\n",
       "<table class=\"simpletable\">\n",
       "<tr>\n",
       "      <td></td>        <th>Coef.</th>  <th>Std.Err.</th>    <th>t</th>     <th>P>|t|</th>  <th>[0.025</th>  <th>0.975]</th> \n",
       "</tr>\n",
       "<tr>\n",
       "  <th>Intercept</th>  <td>78.5789</td>  <td>3.3613</td>  <td>23.3772</td> <td>0.0000</td>  <td>70.9751</td> <td>86.1828</td>\n",
       "</tr>\n",
       "<tr>\n",
       "  <th>U</th>          <td>27.0625</td>  <td>3.6629</td>  <td>7.3882</td>  <td>0.0000</td>  <td>18.7763</td> <td>35.3487</td>\n",
       "</tr>\n",
       "<tr>\n",
       "  <th>A</th>          <td>-8.4375</td>  <td>3.6629</td>  <td>-2.3035</td> <td>0.0467</td> <td>-16.7237</td> <td>-0.1513</td>\n",
       "</tr>\n",
       "<tr>\n",
       "  <th>U:A</th>        <td>-8.0625</td>  <td>3.6629</td>  <td>-2.2011</td> <td>0.0552</td> <td>-16.3487</td> <td>0.2237</td> \n",
       "</tr>\n",
       "<tr>\n",
       "  <th>P</th>          <td>9.6875</td>   <td>3.6629</td>  <td>2.6447</td>  <td>0.0267</td>  <td>1.4013</td>  <td>17.9737</td>\n",
       "</tr>\n",
       "<tr>\n",
       "  <th>Y</th>          <td>12.5625</td>  <td>3.6629</td>  <td>3.4296</td>  <td>0.0075</td>  <td>4.2763</td>  <td>20.8487</td>\n",
       "</tr>\n",
       "<tr>\n",
       "  <th>A:Y</th>       <td>-11.3125</td>  <td>3.6629</td>  <td>-3.0884</td> <td>0.0130</td> <td>-19.5987</td> <td>-3.0263</td>\n",
       "</tr>\n",
       "<tr>\n",
       "  <th>U:A:Y</th>      <td>-8.1875</td>  <td>3.6629</td>  <td>-2.2352</td> <td>0.0522</td> <td>-16.4737</td> <td>0.0987</td> \n",
       "</tr>\n",
       "<tr>\n",
       "  <th>U:P:Y</th>      <td>-7.5625</td>  <td>3.6629</td>  <td>-2.0646</td> <td>0.0690</td> <td>-15.8487</td> <td>0.7237</td> \n",
       "</tr>\n",
       "<tr>\n",
       "  <th>A:P:Y</th>      <td>-9.3125</td>  <td>3.6629</td>  <td>-2.5424</td> <td>0.0316</td> <td>-17.5987</td> <td>-1.0263</td>\n",
       "</tr>\n",
       "</table>\n",
       "<table class=\"simpletable\">\n",
       "<tr>\n",
       "     <td>Omnibus:</td>     <td>0.222</td>  <td>Durbin-Watson:</td>   <td>1.718</td>\n",
       "</tr>\n",
       "<tr>\n",
       "  <td>Prob(Omnibus):</td>  <td>0.895</td> <td>Jarque-Bera (JB):</td> <td>0.374</td>\n",
       "</tr>\n",
       "<tr>\n",
       "       <td>Skew:</td>     <td>-0.200</td>     <td>Prob(JB):</td>     <td>0.830</td>\n",
       "</tr>\n",
       "<tr>\n",
       "     <td>Kurtosis:</td>    <td>2.441</td>  <td>Condition No.:</td>     <td>1</td>  \n",
       "</tr>\n",
       "</table><br/>\n",
       "Notes:<br/>\n",
       "[1] Standard Errors assume that the covariance matrix of the errors is correctly specified."
      ],
      "text/latex": [
       "\\begin{table}\n",
       "\\caption{Results: Ordinary least squares}\n",
       "\\label{}\n",
       "\\begin{center}\n",
       "\\begin{tabular}{llll}\n",
       "\\hline\n",
       "Model:              & OLS              & Adj. R-squared:     & 0.847     \\\\\n",
       "Dependent Variable: & F                & AIC:                & 161.7359  \\\\\n",
       "Date:               & 2023-07-10 21:57 & BIC:                & 171.1803  \\\\\n",
       "No. Observations:   & 19               & Log-Likelihood:     & -70.868   \\\\\n",
       "Df Model:           & 9                & F-statistic:        & 12.08     \\\\\n",
       "Df Residuals:       & 9                & Prob (F-statistic): & 0.000499  \\\\\n",
       "R-squared:          & 0.924            & Scale:              & 214.67    \\\\\n",
       "\\hline\n",
       "\\end{tabular}\n",
       "\\end{center}\n",
       "\n",
       "\\begin{center}\n",
       "\\begin{tabular}{lrrrrrr}\n",
       "\\hline\n",
       "          &    Coef. & Std.Err. &       t & P$> |$t$|$ &   [0.025 &  0.975]  \\\\\n",
       "\\hline\n",
       "Intercept &  78.5789 &   3.3613 & 23.3772 &      0.0000 &  70.9751 & 86.1828  \\\\\n",
       "U         &  27.0625 &   3.6629 &  7.3882 &      0.0000 &  18.7763 & 35.3487  \\\\\n",
       "A         &  -8.4375 &   3.6629 & -2.3035 &      0.0467 & -16.7237 & -0.1513  \\\\\n",
       "U:A       &  -8.0625 &   3.6629 & -2.2011 &      0.0552 & -16.3487 &  0.2237  \\\\\n",
       "P         &   9.6875 &   3.6629 &  2.6447 &      0.0267 &   1.4013 & 17.9737  \\\\\n",
       "Y         &  12.5625 &   3.6629 &  3.4296 &      0.0075 &   4.2763 & 20.8487  \\\\\n",
       "A:Y       & -11.3125 &   3.6629 & -3.0884 &      0.0130 & -19.5987 & -3.0263  \\\\\n",
       "U:A:Y     &  -8.1875 &   3.6629 & -2.2352 &      0.0522 & -16.4737 &  0.0987  \\\\\n",
       "U:P:Y     &  -7.5625 &   3.6629 & -2.0646 &      0.0690 & -15.8487 &  0.7237  \\\\\n",
       "A:P:Y     &  -9.3125 &   3.6629 & -2.5424 &      0.0316 & -17.5987 & -1.0263  \\\\\n",
       "\\hline\n",
       "\\end{tabular}\n",
       "\\end{center}\n",
       "\n",
       "\\begin{center}\n",
       "\\begin{tabular}{llll}\n",
       "\\hline\n",
       "Omnibus:       & 0.222  & Durbin-Watson:    & 1.718  \\\\\n",
       "Prob(Omnibus): & 0.895  & Jarque-Bera (JB): & 0.374  \\\\\n",
       "Skew:          & -0.200 & Prob(JB):         & 0.830  \\\\\n",
       "Kurtosis:      & 2.441  & Condition No.:    & 1      \\\\\n",
       "\\hline\n",
       "\\end{tabular}\n",
       "\\end{center}\n",
       "\\end{table}\n",
       "\\bigskip\n",
       "Notes: \\newline \n",
       "[1] Standard Errors assume that the covariance matrix of the errors is correctly specified."
      ],
      "text/plain": [
       "<class 'statsmodels.iolib.summary2.Summary'>\n",
       "\"\"\"\n",
       "                 Results: Ordinary least squares\n",
       "=================================================================\n",
       "Model:              OLS              Adj. R-squared:     0.847   \n",
       "Dependent Variable: F                AIC:                161.7359\n",
       "Date:               2023-07-10 21:57 BIC:                171.1803\n",
       "No. Observations:   19               Log-Likelihood:     -70.868 \n",
       "Df Model:           9                F-statistic:        12.08   \n",
       "Df Residuals:       9                Prob (F-statistic): 0.000499\n",
       "R-squared:          0.924            Scale:              214.67  \n",
       "------------------------------------------------------------------\n",
       "             Coef.    Std.Err.     t     P>|t|    [0.025    0.975]\n",
       "------------------------------------------------------------------\n",
       "Intercept    78.5789    3.3613  23.3772  0.0000   70.9751  86.1828\n",
       "U            27.0625    3.6629   7.3882  0.0000   18.7763  35.3487\n",
       "A            -8.4375    3.6629  -2.3035  0.0467  -16.7237  -0.1513\n",
       "U:A          -8.0625    3.6629  -2.2011  0.0552  -16.3487   0.2237\n",
       "P             9.6875    3.6629   2.6447  0.0267    1.4013  17.9737\n",
       "Y            12.5625    3.6629   3.4296  0.0075    4.2763  20.8487\n",
       "A:Y         -11.3125    3.6629  -3.0884  0.0130  -19.5987  -3.0263\n",
       "U:A:Y        -8.1875    3.6629  -2.2352  0.0522  -16.4737   0.0987\n",
       "U:P:Y        -7.5625    3.6629  -2.0646  0.0690  -15.8487   0.7237\n",
       "A:P:Y        -9.3125    3.6629  -2.5424  0.0316  -17.5987  -1.0263\n",
       "-----------------------------------------------------------------\n",
       "Omnibus:               0.222        Durbin-Watson:          1.718\n",
       "Prob(Omnibus):         0.895        Jarque-Bera (JB):       0.374\n",
       "Skew:                  -0.200       Prob(JB):               0.830\n",
       "Kurtosis:              2.441        Condition No.:          1    \n",
       "=================================================================\n",
       "Notes:\n",
       "[1] Standard Errors assume that the covariance matrix of the\n",
       "errors is correctly specified.\n",
       "\"\"\""
      ]
     },
     "execution_count": 34,
     "metadata": {},
     "output_type": "execute_result"
    }
   ],
   "source": [
    "sig_fm['F'].summary2()"
   ]
  },
  {
   "cell_type": "code",
   "execution_count": null,
   "metadata": {},
   "outputs": [
    {
     "data": {
      "text/plain": [
       "{'results':    df_resid          ssr  df_diff      ss_diff         F    Pr(>F)\n",
       " 0       9.0  1932.069079      0.0          NaN       NaN       NaN\n",
       " 1       4.0   719.125000      5.0  1212.944079  1.349355  0.397138,\n",
       " 'lack_of_fit': 1212.9440789473688,\n",
       " 'pure_error': 719.1249999999998}"
      ]
     },
     "execution_count": 27,
     "metadata": {},
     "output_type": "execute_result"
    }
   ],
   "source": [
    "sig_fm.lack_of_fit()['F']"
   ]
  },
  {
   "cell_type": "code",
   "execution_count": null,
   "metadata": {},
   "outputs": [],
   "source": [
    "regression_GL = sig_fm['F'].df_model\n",
    "residual_GL = sig_fm.anova()['F'].df['Residual']\n",
    "lof_GL = sig_fm.lack_of_fit()['F']['results']['df_resid'][1]\n",
    "error_GL = sig_fm.lack_of_fit()['F']['results']['df_diff'][1]\n",
    "sum_GL = regression_GL + residual_GL + lof_GL + error_GL\n"
   ]
  },
  {
   "cell_type": "code",
   "execution_count": null,
   "metadata": {},
   "outputs": [
    {
     "data": {
      "text/plain": [
       "12.08371002589601"
      ]
     },
     "execution_count": 112,
     "metadata": {},
     "output_type": "execute_result"
    }
   ],
   "source": [
    "regression_SQ = sig_fm.anova()['F'].sum_sq.sum() - sig_fm.anova()['F'].sum_sq['Residual']\n",
    "residual_SQ = sig_fm.anova()['F'].sum_sq['Residual']\n",
    "lof_SQ = sig_fm.lack_of_fit()['F']['lack_of_fit']\n",
    "error_SQ = sig_fm.lack_of_fit()['F']['pure_error']\n",
    "\n",
    "regression_MQ = regression_SQ/regression_GL\n",
    "residual_MQ = residual_SQ/residual_GL\n",
    "lof_MQ = lof_SQ/lof_GL\n",
    "error_MQ = error_SQ/error_GL\n",
    "\n",
    "regression_F = regression_MQ/residual_MQ\n",
    "lof_F = lof_MQ/error_MQ\n",
    "regression_F\n",
    "\n"
   ]
  },
  {
   "cell_type": "code",
   "execution_count": null,
   "metadata": {},
   "outputs": [
    {
     "data": {
      "text/plain": [
       "3.178893104458269"
      ]
     },
     "execution_count": 111,
     "metadata": {},
     "output_type": "execute_result"
    }
   ],
   "source": [
    "from scipy.stats import f\n",
    "\n",
    "tabelado_F = f.ppf(q=1-0.05, dfn=regression_GL, dfd=residual_GL)\n",
    "tabelado_F"
   ]
  },
  {
   "cell_type": "code",
   "execution_count": null,
   "metadata": {},
   "outputs": [
    {
     "data": {
      "text/plain": [
       "2.108367945328297"
      ]
     },
     "execution_count": 109,
     "metadata": {},
     "output_type": "execute_result"
    }
   ],
   "source": [
    "lof_F"
   ]
  },
  {
   "cell_type": "code",
   "execution_count": null,
   "metadata": {},
   "outputs": [
    {
     "data": {
      "text/plain": [
       "5.192167772803923"
      ]
     },
     "execution_count": 114,
     "metadata": {},
     "output_type": "execute_result"
    }
   ],
   "source": [
    "tabelado_F = f.ppf(q=1-0.05, dfn=lof_GL, dfd=error_GL)\n",
    "tabelado_F\n"
   ]
  },
  {
   "cell_type": "code",
   "execution_count": null,
   "metadata": {},
   "outputs": [
    {
     "data": {
      "text/html": [
       "<div>\n",
       "<style scoped>\n",
       "    .dataframe tbody tr th:only-of-type {\n",
       "        vertical-align: middle;\n",
       "    }\n",
       "\n",
       "    .dataframe tbody tr th {\n",
       "        vertical-align: top;\n",
       "    }\n",
       "\n",
       "    .dataframe thead th {\n",
       "        text-align: right;\n",
       "    }\n",
       "</style>\n",
       "<table border=\"1\" class=\"dataframe\">\n",
       "  <thead>\n",
       "    <tr style=\"text-align: right;\">\n",
       "      <th></th>\n",
       "      <th>df</th>\n",
       "      <th>sum_sq</th>\n",
       "      <th>mean_sq</th>\n",
       "      <th>F</th>\n",
       "      <th>PR(&gt;F)</th>\n",
       "    </tr>\n",
       "  </thead>\n",
       "  <tbody>\n",
       "    <tr>\n",
       "      <th>U</th>\n",
       "      <td>1.0</td>\n",
       "      <td>11718.062500</td>\n",
       "      <td>11718.062500</td>\n",
       "      <td>54.585296</td>\n",
       "      <td>0.000042</td>\n",
       "    </tr>\n",
       "    <tr>\n",
       "      <th>A</th>\n",
       "      <td>1.0</td>\n",
       "      <td>1139.062500</td>\n",
       "      <td>1139.062500</td>\n",
       "      <td>5.306002</td>\n",
       "      <td>0.046733</td>\n",
       "    </tr>\n",
       "    <tr>\n",
       "      <th>U:A</th>\n",
       "      <td>1.0</td>\n",
       "      <td>1040.062500</td>\n",
       "      <td>1040.062500</td>\n",
       "      <td>4.844838</td>\n",
       "      <td>0.055241</td>\n",
       "    </tr>\n",
       "    <tr>\n",
       "      <th>P</th>\n",
       "      <td>1.0</td>\n",
       "      <td>1501.562500</td>\n",
       "      <td>1501.562500</td>\n",
       "      <td>6.994606</td>\n",
       "      <td>0.026706</td>\n",
       "    </tr>\n",
       "    <tr>\n",
       "      <th>Y</th>\n",
       "      <td>1.0</td>\n",
       "      <td>2525.062500</td>\n",
       "      <td>2525.062500</td>\n",
       "      <td>11.762293</td>\n",
       "      <td>0.007513</td>\n",
       "    </tr>\n",
       "    <tr>\n",
       "      <th>A:Y</th>\n",
       "      <td>1.0</td>\n",
       "      <td>2047.562500</td>\n",
       "      <td>2047.562500</td>\n",
       "      <td>9.537994</td>\n",
       "      <td>0.012964</td>\n",
       "    </tr>\n",
       "    <tr>\n",
       "      <th>U:A:Y</th>\n",
       "      <td>1.0</td>\n",
       "      <td>1072.562500</td>\n",
       "      <td>1072.562500</td>\n",
       "      <td>4.996231</td>\n",
       "      <td>0.052249</td>\n",
       "    </tr>\n",
       "    <tr>\n",
       "      <th>U:P:Y</th>\n",
       "      <td>1.0</td>\n",
       "      <td>915.062500</td>\n",
       "      <td>915.062500</td>\n",
       "      <td>4.262561</td>\n",
       "      <td>0.068965</td>\n",
       "    </tr>\n",
       "    <tr>\n",
       "      <th>A:P:Y</th>\n",
       "      <td>1.0</td>\n",
       "      <td>1387.562500</td>\n",
       "      <td>1387.562500</td>\n",
       "      <td>6.463569</td>\n",
       "      <td>0.031588</td>\n",
       "    </tr>\n",
       "    <tr>\n",
       "      <th>Residual</th>\n",
       "      <td>9.0</td>\n",
       "      <td>1932.069079</td>\n",
       "      <td>214.674342</td>\n",
       "      <td>NaN</td>\n",
       "      <td>NaN</td>\n",
       "    </tr>\n",
       "  </tbody>\n",
       "</table>\n",
       "</div>"
      ],
      "text/plain": [
       "           df        sum_sq       mean_sq          F    PR(>F)\n",
       "U         1.0  11718.062500  11718.062500  54.585296  0.000042\n",
       "A         1.0   1139.062500   1139.062500   5.306002  0.046733\n",
       "U:A       1.0   1040.062500   1040.062500   4.844838  0.055241\n",
       "P         1.0   1501.562500   1501.562500   6.994606  0.026706\n",
       "Y         1.0   2525.062500   2525.062500  11.762293  0.007513\n",
       "A:Y       1.0   2047.562500   2047.562500   9.537994  0.012964\n",
       "U:A:Y     1.0   1072.562500   1072.562500   4.996231  0.052249\n",
       "U:P:Y     1.0    915.062500    915.062500   4.262561  0.068965\n",
       "A:P:Y     1.0   1387.562500   1387.562500   6.463569  0.031588\n",
       "Residual  9.0   1932.069079    214.674342        NaN       NaN"
      ]
     },
     "execution_count": 61,
     "metadata": {},
     "output_type": "execute_result"
    }
   ],
   "source": [
    "sig_fm.anova()['F']"
   ]
  },
  {
   "cell_type": "code",
   "execution_count": null,
   "metadata": {},
   "outputs": [
    {
     "name": "stderr",
     "output_type": "stream",
     "text": [
      "/home/ppiper/micromamba/envs/explann/lib/python3.11/site-packages/scipy/stats/_stats_py.py:1736: UserWarning: kurtosistest only valid for n>=20 ... continuing anyway, n=19\n",
      "  warnings.warn(\"kurtosistest only valid for n>=20 ... continuing \"\n"
     ]
    },
    {
     "data": {
      "text/html": [
       "<table class=\"simpletable\">\n",
       "<caption>OLS Regression Results</caption>\n",
       "<tr>\n",
       "  <th>Dep. Variable:</th>            <td>F</td>        <th>  R-squared:         </th> <td>   0.924</td>\n",
       "</tr>\n",
       "<tr>\n",
       "  <th>Model:</th>                   <td>OLS</td>       <th>  Adj. R-squared:    </th> <td>   0.847</td>\n",
       "</tr>\n",
       "<tr>\n",
       "  <th>Method:</th>             <td>Least Squares</td>  <th>  F-statistic:       </th> <td>   12.08</td>\n",
       "</tr>\n",
       "<tr>\n",
       "  <th>Date:</th>             <td>Mon, 10 Jul 2023</td> <th>  Prob (F-statistic):</th> <td>0.000499</td>\n",
       "</tr>\n",
       "<tr>\n",
       "  <th>Time:</th>                 <td>19:16:19</td>     <th>  Log-Likelihood:    </th> <td> -70.868</td>\n",
       "</tr>\n",
       "<tr>\n",
       "  <th>No. Observations:</th>      <td>    19</td>      <th>  AIC:               </th> <td>   161.7</td>\n",
       "</tr>\n",
       "<tr>\n",
       "  <th>Df Residuals:</th>          <td>     9</td>      <th>  BIC:               </th> <td>   171.2</td>\n",
       "</tr>\n",
       "<tr>\n",
       "  <th>Df Model:</th>              <td>     9</td>      <th>                     </th>     <td> </td>   \n",
       "</tr>\n",
       "<tr>\n",
       "  <th>Covariance Type:</th>      <td>nonrobust</td>    <th>                     </th>     <td> </td>   \n",
       "</tr>\n",
       "</table>\n",
       "<table class=\"simpletable\">\n",
       "<tr>\n",
       "      <td></td>         <th>coef</th>     <th>std err</th>      <th>t</th>      <th>P>|t|</th>  <th>[0.025</th>    <th>0.975]</th>  \n",
       "</tr>\n",
       "<tr>\n",
       "  <th>Intercept</th> <td>   78.5789</td> <td>    3.361</td> <td>   23.377</td> <td> 0.000</td> <td>   70.975</td> <td>   86.183</td>\n",
       "</tr>\n",
       "<tr>\n",
       "  <th>U</th>         <td>   27.0625</td> <td>    3.663</td> <td>    7.388</td> <td> 0.000</td> <td>   18.776</td> <td>   35.349</td>\n",
       "</tr>\n",
       "<tr>\n",
       "  <th>A</th>         <td>   -8.4375</td> <td>    3.663</td> <td>   -2.303</td> <td> 0.047</td> <td>  -16.724</td> <td>   -0.151</td>\n",
       "</tr>\n",
       "<tr>\n",
       "  <th>U:A</th>       <td>   -8.0625</td> <td>    3.663</td> <td>   -2.201</td> <td> 0.055</td> <td>  -16.349</td> <td>    0.224</td>\n",
       "</tr>\n",
       "<tr>\n",
       "  <th>P</th>         <td>    9.6875</td> <td>    3.663</td> <td>    2.645</td> <td> 0.027</td> <td>    1.401</td> <td>   17.974</td>\n",
       "</tr>\n",
       "<tr>\n",
       "  <th>Y</th>         <td>   12.5625</td> <td>    3.663</td> <td>    3.430</td> <td> 0.008</td> <td>    4.276</td> <td>   20.849</td>\n",
       "</tr>\n",
       "<tr>\n",
       "  <th>A:Y</th>       <td>  -11.3125</td> <td>    3.663</td> <td>   -3.088</td> <td> 0.013</td> <td>  -19.599</td> <td>   -3.026</td>\n",
       "</tr>\n",
       "<tr>\n",
       "  <th>U:A:Y</th>     <td>   -8.1875</td> <td>    3.663</td> <td>   -2.235</td> <td> 0.052</td> <td>  -16.474</td> <td>    0.099</td>\n",
       "</tr>\n",
       "<tr>\n",
       "  <th>U:P:Y</th>     <td>   -7.5625</td> <td>    3.663</td> <td>   -2.065</td> <td> 0.069</td> <td>  -15.849</td> <td>    0.724</td>\n",
       "</tr>\n",
       "<tr>\n",
       "  <th>A:P:Y</th>     <td>   -9.3125</td> <td>    3.663</td> <td>   -2.542</td> <td> 0.032</td> <td>  -17.599</td> <td>   -1.026</td>\n",
       "</tr>\n",
       "</table>\n",
       "<table class=\"simpletable\">\n",
       "<tr>\n",
       "  <th>Omnibus:</th>       <td> 0.222</td> <th>  Durbin-Watson:     </th> <td>   1.718</td>\n",
       "</tr>\n",
       "<tr>\n",
       "  <th>Prob(Omnibus):</th> <td> 0.895</td> <th>  Jarque-Bera (JB):  </th> <td>   0.374</td>\n",
       "</tr>\n",
       "<tr>\n",
       "  <th>Skew:</th>          <td>-0.200</td> <th>  Prob(JB):          </th> <td>   0.830</td>\n",
       "</tr>\n",
       "<tr>\n",
       "  <th>Kurtosis:</th>      <td> 2.441</td> <th>  Cond. No.          </th> <td>    1.09</td>\n",
       "</tr>\n",
       "</table><br/><br/>Notes:<br/>[1] Standard Errors assume that the covariance matrix of the errors is correctly specified."
      ],
      "text/latex": [
       "\\begin{center}\n",
       "\\begin{tabular}{lclc}\n",
       "\\toprule\n",
       "\\textbf{Dep. Variable:}    &        F         & \\textbf{  R-squared:         } &     0.924   \\\\\n",
       "\\textbf{Model:}            &       OLS        & \\textbf{  Adj. R-squared:    } &     0.847   \\\\\n",
       "\\textbf{Method:}           &  Least Squares   & \\textbf{  F-statistic:       } &     12.08   \\\\\n",
       "\\textbf{Date:}             & Mon, 10 Jul 2023 & \\textbf{  Prob (F-statistic):} &  0.000499   \\\\\n",
       "\\textbf{Time:}             &     19:16:19     & \\textbf{  Log-Likelihood:    } &   -70.868   \\\\\n",
       "\\textbf{No. Observations:} &          19      & \\textbf{  AIC:               } &     161.7   \\\\\n",
       "\\textbf{Df Residuals:}     &           9      & \\textbf{  BIC:               } &     171.2   \\\\\n",
       "\\textbf{Df Model:}         &           9      & \\textbf{                     } &             \\\\\n",
       "\\textbf{Covariance Type:}  &    nonrobust     & \\textbf{                     } &             \\\\\n",
       "\\bottomrule\n",
       "\\end{tabular}\n",
       "\\begin{tabular}{lcccccc}\n",
       "                   & \\textbf{coef} & \\textbf{std err} & \\textbf{t} & \\textbf{P$> |$t$|$} & \\textbf{[0.025} & \\textbf{0.975]}  \\\\\n",
       "\\midrule\n",
       "\\textbf{Intercept} &      78.5789  &        3.361     &    23.377  &         0.000        &       70.975    &       86.183     \\\\\n",
       "\\textbf{U}         &      27.0625  &        3.663     &     7.388  &         0.000        &       18.776    &       35.349     \\\\\n",
       "\\textbf{A}         &      -8.4375  &        3.663     &    -2.303  &         0.047        &      -16.724    &       -0.151     \\\\\n",
       "\\textbf{U:A}       &      -8.0625  &        3.663     &    -2.201  &         0.055        &      -16.349    &        0.224     \\\\\n",
       "\\textbf{P}         &       9.6875  &        3.663     &     2.645  &         0.027        &        1.401    &       17.974     \\\\\n",
       "\\textbf{Y}         &      12.5625  &        3.663     &     3.430  &         0.008        &        4.276    &       20.849     \\\\\n",
       "\\textbf{A:Y}       &     -11.3125  &        3.663     &    -3.088  &         0.013        &      -19.599    &       -3.026     \\\\\n",
       "\\textbf{U:A:Y}     &      -8.1875  &        3.663     &    -2.235  &         0.052        &      -16.474    &        0.099     \\\\\n",
       "\\textbf{U:P:Y}     &      -7.5625  &        3.663     &    -2.065  &         0.069        &      -15.849    &        0.724     \\\\\n",
       "\\textbf{A:P:Y}     &      -9.3125  &        3.663     &    -2.542  &         0.032        &      -17.599    &       -1.026     \\\\\n",
       "\\bottomrule\n",
       "\\end{tabular}\n",
       "\\begin{tabular}{lclc}\n",
       "\\textbf{Omnibus:}       &  0.222 & \\textbf{  Durbin-Watson:     } &    1.718  \\\\\n",
       "\\textbf{Prob(Omnibus):} &  0.895 & \\textbf{  Jarque-Bera (JB):  } &    0.374  \\\\\n",
       "\\textbf{Skew:}          & -0.200 & \\textbf{  Prob(JB):          } &    0.830  \\\\\n",
       "\\textbf{Kurtosis:}      &  2.441 & \\textbf{  Cond. No.          } &     1.09  \\\\\n",
       "\\bottomrule\n",
       "\\end{tabular}\n",
       "%\\caption{OLS Regression Results}\n",
       "\\end{center}\n",
       "\n",
       "Notes: \\newline\n",
       " [1] Standard Errors assume that the covariance matrix of the errors is correctly specified."
      ],
      "text/plain": [
       "<class 'statsmodels.iolib.summary.Summary'>\n",
       "\"\"\"\n",
       "                            OLS Regression Results                            \n",
       "==============================================================================\n",
       "Dep. Variable:                      F   R-squared:                       0.924\n",
       "Model:                            OLS   Adj. R-squared:                  0.847\n",
       "Method:                 Least Squares   F-statistic:                     12.08\n",
       "Date:                Mon, 10 Jul 2023   Prob (F-statistic):           0.000499\n",
       "Time:                        19:16:19   Log-Likelihood:                -70.868\n",
       "No. Observations:                  19   AIC:                             161.7\n",
       "Df Residuals:                       9   BIC:                             171.2\n",
       "Df Model:                           9                                         \n",
       "Covariance Type:            nonrobust                                         \n",
       "==============================================================================\n",
       "                 coef    std err          t      P>|t|      [0.025      0.975]\n",
       "------------------------------------------------------------------------------\n",
       "Intercept     78.5789      3.361     23.377      0.000      70.975      86.183\n",
       "U             27.0625      3.663      7.388      0.000      18.776      35.349\n",
       "A             -8.4375      3.663     -2.303      0.047     -16.724      -0.151\n",
       "U:A           -8.0625      3.663     -2.201      0.055     -16.349       0.224\n",
       "P              9.6875      3.663      2.645      0.027       1.401      17.974\n",
       "Y             12.5625      3.663      3.430      0.008       4.276      20.849\n",
       "A:Y          -11.3125      3.663     -3.088      0.013     -19.599      -3.026\n",
       "U:A:Y         -8.1875      3.663     -2.235      0.052     -16.474       0.099\n",
       "U:P:Y         -7.5625      3.663     -2.065      0.069     -15.849       0.724\n",
       "A:P:Y         -9.3125      3.663     -2.542      0.032     -17.599      -1.026\n",
       "==============================================================================\n",
       "Omnibus:                        0.222   Durbin-Watson:                   1.718\n",
       "Prob(Omnibus):                  0.895   Jarque-Bera (JB):                0.374\n",
       "Skew:                          -0.200   Prob(JB):                        0.830\n",
       "Kurtosis:                       2.441   Cond. No.                         1.09\n",
       "==============================================================================\n",
       "\n",
       "Notes:\n",
       "[1] Standard Errors assume that the covariance matrix of the errors is correctly specified.\n",
       "\"\"\""
      ]
     },
     "execution_count": 66,
     "metadata": {},
     "output_type": "execute_result"
    }
   ],
   "source": [
    "sig_fm['F'].summary()"
   ]
  },
  {
   "cell_type": "code",
   "execution_count": null,
   "metadata": {},
   "outputs": [
    {
     "name": "stdout",
     "output_type": "stream",
     "text": [
      "5.9987790312102485\n",
      "0.050000000000000044\n"
     ]
    }
   ],
   "source": [
    "from scipy.stats import f\n",
    "\n",
    "# tabela F\n",
    "F = f.ppf(q=1-0.05, dfn=9, dfd=4)\n",
    "print(F)\n",
    "pValue = 1.0 - f.cdf(F, 9, 4)\n",
    "print(pValue)"
   ]
  },
  {
   "cell_type": "code",
   "execution_count": null,
   "metadata": {},
   "outputs": [
    {
     "data": {
      "text/plain": [
       "{'results':    df_resid          ssr  df_diff      ss_diff         F    Pr(>F)\n",
       " 0       9.0  1932.069079      0.0          NaN       NaN       NaN\n",
       " 1       4.0   719.125000      5.0  1212.944079  1.349355  0.397138,\n",
       " 'lack_of_fit': 1212.9440789473688,\n",
       " 'pure_error': 719.1249999999998}"
      ]
     },
     "execution_count": 40,
     "metadata": {},
     "output_type": "execute_result"
    }
   ],
   "source": [
    "sig_fm.lack_of_fit()['F']"
   ]
  },
  {
   "cell_type": "code",
   "execution_count": null,
   "metadata": {},
   "outputs": [
    {
     "ename": "TypeError",
     "evalue": "'FactorialModel' object is not subscriptable",
     "output_type": "error",
     "traceback": [
      "\u001b[0;31m---------------------------------------------------------------------------\u001b[0m",
      "\u001b[0;31mTypeError\u001b[0m                                 Traceback (most recent call last)",
      "Cell \u001b[0;32mIn[91], line 3\u001b[0m\n\u001b[1;32m      1\u001b[0m anova_sig_fm \u001b[39m=\u001b[39m sig_fm\u001b[39m.\u001b[39manova()[\u001b[39m'\u001b[39m\u001b[39mF\u001b[39m\u001b[39m'\u001b[39m]\n\u001b[1;32m      2\u001b[0m \u001b[39m#anova_sig_fm.sum_sq.sum()- anova_sig_fm.sum_sq['Residual']\u001b[39;00m\n\u001b[0;32m----> 3\u001b[0m regression_GL \u001b[39m=\u001b[39m sig_fm[\u001b[39m'\u001b[39;49m\u001b[39mF\u001b[39;49m\u001b[39m'\u001b[39;49m]\u001b[39m.\u001b[39mdf_model\n",
      "\u001b[0;31mTypeError\u001b[0m: 'FactorialModel' object is not subscriptable"
     ]
    }
   ],
   "source": [
    "anova_sig_fm = sig_fm.anova()['F']\n",
    "#anova_sig_fm.sum_sq.sum()- anova_sig_fm.sum_sq['Residual']\n",
    "regression_GL = sig_fm['F'].df_model"
   ]
  },
  {
   "cell_type": "code",
   "execution_count": null,
   "metadata": {},
   "outputs": [
    {
     "data": {
      "text/plain": [
       "{'F': {'results':    df_resid          ssr  df_diff      ss_diff         F    Pr(>F)\n",
       "  0       9.0  1932.069079      0.0          NaN       NaN       NaN\n",
       "  1       4.0   719.125000      5.0  1212.944079  1.349355  0.397138,\n",
       "  'lack_of_fit': 1212.9440789473688,\n",
       "  'pure_error': 719.1249999999998},\n",
       " 'C': {'results':    df_resid       ssr  df_diff   ss_diff         F    Pr(>F)\n",
       "  0      15.0  0.261019      0.0       NaN       NaN       NaN\n",
       "  1      10.0  0.194888      5.0  0.066131  0.678661  0.649715,\n",
       "  'lack_of_fit': 0.06613135964912273,\n",
       "  'pure_error': 0.1948876666666667},\n",
       " 'B': {'results':    df_resid        ssr  df_diff   ss_diff         F    Pr(>F)\n",
       "  0       4.0  27.361842      0.0       NaN       NaN       NaN\n",
       "  1       2.0  24.666667      2.0  2.695175  0.109264  0.901499,\n",
       "  'lack_of_fit': 2.695175438596678,\n",
       "  'pure_error': 24.666666666666476}}"
      ]
     },
     "execution_count": 21,
     "metadata": {},
     "output_type": "execute_result"
    }
   ],
   "source": [
    "sig_fm.lack_of_fit()"
   ]
  },
  {
   "cell_type": "code",
   "execution_count": null,
   "metadata": {},
   "outputs": [
    {
     "data": {
      "text/plain": [
       "['Intercept', 'U', 'A', 'U:A', 'P', 'Y', 'A:Y', 'U:A:Y', 'U:P:Y', 'A:P:Y']"
      ]
     },
     "execution_count": 29,
     "metadata": {},
     "output_type": "execute_result"
    }
   ],
   "source": [
    "fm.get_significant_terms('F')"
   ]
  },
  {
   "cell_type": "code",
   "execution_count": null,
   "metadata": {},
   "outputs": [
    {
     "data": {
      "text/plain": [
       "{'F': 'F ~ 1 + U + A + U:A + P + Y + A:Y + U:A:Y + U:P:Y + A:P:Y',\n",
       " 'C': 'C ~ 1 + U + U:A + U:A:Y',\n",
       " 'B': 'B ~ 1 + U + A + U:A + P + U:P + A:P + U:A:P + Y + A:Y + U:A:Y + P:Y + U:P:Y + A:P:Y + U:A:P:Y'}"
      ]
     },
     "execution_count": 30,
     "metadata": {},
     "output_type": "execute_result"
    }
   ],
   "source": [
    "fm.get_significant_model_functions()"
   ]
  },
  {
   "cell_type": "code",
   "execution_count": null,
   "metadata": {},
   "outputs": [],
   "source": [
    "sig_fm = FactorialModel(\n",
    "    data=table_24.data,\n",
    "    functions={'F': 'F ~ U + A + U:A + P + Y + A:Y + U:A:Y + U:P:Y + A:P:Y',\n",
    " 'C': 'C ~ 1 + U + U:A + U:A:Y',\n",
    " 'B': 'B ~ 1 + U + A + U:A + P + U:P + A:P + U:A:P + Y + A:Y + U:A:Y + P:Y + U:P:Y + A:P:Y + U:A:P:Y'}     \n",
    ")"
   ]
  },
  {
   "cell_type": "code",
   "execution_count": null,
   "metadata": {},
   "outputs": [
    {
     "data": {
      "text/html": [
       "<div>\n",
       "<style scoped>\n",
       "    .dataframe tbody tr th:only-of-type {\n",
       "        vertical-align: middle;\n",
       "    }\n",
       "\n",
       "    .dataframe tbody tr th {\n",
       "        vertical-align: top;\n",
       "    }\n",
       "\n",
       "    .dataframe thead th {\n",
       "        text-align: right;\n",
       "    }\n",
       "</style>\n",
       "<table border=\"1\" class=\"dataframe\">\n",
       "  <thead>\n",
       "    <tr style=\"text-align: right;\">\n",
       "      <th></th>\n",
       "      <th>df_resid</th>\n",
       "      <th>ssr</th>\n",
       "      <th>df_diff</th>\n",
       "      <th>ss_diff</th>\n",
       "      <th>F</th>\n",
       "      <th>Pr(&gt;F)</th>\n",
       "    </tr>\n",
       "  </thead>\n",
       "  <tbody>\n",
       "    <tr>\n",
       "      <th>0</th>\n",
       "      <td>9.0</td>\n",
       "      <td>1932.069079</td>\n",
       "      <td>0.0</td>\n",
       "      <td>NaN</td>\n",
       "      <td>NaN</td>\n",
       "      <td>NaN</td>\n",
       "    </tr>\n",
       "    <tr>\n",
       "      <th>1</th>\n",
       "      <td>3.0</td>\n",
       "      <td>195.194079</td>\n",
       "      <td>6.0</td>\n",
       "      <td>1736.875</td>\n",
       "      <td>4.449098</td>\n",
       "      <td>0.124072</td>\n",
       "    </tr>\n",
       "  </tbody>\n",
       "</table>\n",
       "</div>"
      ],
      "text/plain": [
       "   df_resid          ssr  df_diff   ss_diff         F    Pr(>F)\n",
       "0       9.0  1932.069079      0.0       NaN       NaN       NaN\n",
       "1       3.0   195.194079      6.0  1736.875  4.449098  0.124072"
      ]
     },
     "execution_count": 142,
     "metadata": {},
     "output_type": "execute_result"
    }
   ],
   "source": [
    "from statsmodels.stats.api import anova_lm\n",
    "anova_lm(sig_fm['F'], fm['F'])"
   ]
  },
  {
   "cell_type": "code",
   "execution_count": null,
   "metadata": {},
   "outputs": [
    {
     "data": {
      "text/plain": [
       "{'F': {'results':    df_resid          ssr  df_diff      ss_diff         F    Pr(>F)\n",
       "  0       9.0  1932.069079      0.0          NaN       NaN       NaN\n",
       "  1       4.0   719.125000      5.0  1212.944079  1.349355  0.397138,\n",
       "  'lack_of_fit': 1212.9440789473688,\n",
       "  'pure_error': 719.1249999999998}}"
      ]
     },
     "execution_count": 136,
     "metadata": {},
     "output_type": "execute_result"
    }
   ],
   "source": [
    "sig_fm = FactorialModel(\n",
    "    data=table_24.data,\n",
    "    functions= {\n",
    "        \"F\" : \"F ~ U + A + U:A + P + Y + A:Y + U:A:Y + U:P:Y + A:P:Y\",\n",
    "    }\n",
    ")\n",
    "\n",
    "sig_fm.lack_of_fit()"
   ]
  },
  {
   "cell_type": "code",
   "execution_count": null,
   "metadata": {},
   "outputs": [
    {
     "ename": "NameError",
     "evalue": "name 'factor_24_table' is not defined",
     "output_type": "error",
     "traceback": [
      "\u001b[0;31m---------------------------------------------------------------------------\u001b[0m",
      "\u001b[0;31mNameError\u001b[0m                                 Traceback (most recent call last)",
      "Cell \u001b[0;32mIn[14], line 1\u001b[0m\n\u001b[0;32m----> 1\u001b[0m factor_24_table_fact \u001b[39m=\u001b[39m factor_24_table\u001b[39m.\u001b[39mcopy()\n\u001b[1;32m      2\u001b[0m factor_24_table_fact[\u001b[39m'\u001b[39m\u001b[39mU\u001b[39m\u001b[39m'\u001b[39m] \u001b[39m=\u001b[39m factor_24_table_fact[\u001b[39m'\u001b[39m\u001b[39mU\u001b[39m\u001b[39m'\u001b[39m]\u001b[39m.\u001b[39mastype(\u001b[39m'\u001b[39m\u001b[39mcategory\u001b[39m\u001b[39m'\u001b[39m)\n\u001b[1;32m      3\u001b[0m factor_24_table_fact[\u001b[39m'\u001b[39m\u001b[39mA\u001b[39m\u001b[39m'\u001b[39m] \u001b[39m=\u001b[39m factor_24_table_fact[\u001b[39m'\u001b[39m\u001b[39mA\u001b[39m\u001b[39m'\u001b[39m]\u001b[39m.\u001b[39mastype(\u001b[39m'\u001b[39m\u001b[39mcategory\u001b[39m\u001b[39m'\u001b[39m)\n",
      "\u001b[0;31mNameError\u001b[0m: name 'factor_24_table' is not defined"
     ]
    }
   ],
   "source": [
    "factor_24_table_fact = factor_24_table.copy()\n",
    "factor_24_table_fact['U'] = factor_24_table_fact['U'].astype('category')\n",
    "factor_24_table_fact['A'] = factor_24_table_fact['A'].astype('category')\n",
    "factor_24_table_fact['P'] = factor_24_table_fact['P'].astype('category')\n",
    "factor_24_table_fact['Y'] = factor_24_table_fact['Y'].astype('category')\n",
    "lm_fact = ols(formula, factor_24_table_fact).fit()\n",
    "\n",
    "\n",
    "lm_fact = ols(\"FPase ~  C(A)*C(U)*C(P)*C(Y)\", factor_24_table).fit()\n",
    "\n",
    "an = anova_lm(lm, lm_fact)\n",
    "print(an)"
   ]
  },
  {
   "cell_type": "code",
   "execution_count": null,
   "metadata": {},
   "outputs": [],
   "source": [
    "an.ss_diff[1]"
   ]
  },
  {
   "cell_type": "code",
   "execution_count": null,
   "metadata": {},
   "outputs": [],
   "source": [
    "an.ssr[0]"
   ]
  },
  {
   "cell_type": "code",
   "execution_count": null,
   "metadata": {},
   "outputs": [],
   "source": []
  },
  {
   "cell_type": "code",
   "execution_count": null,
   "metadata": {},
   "outputs": [],
   "source": [
    "lm.predict({'U':0, 'A':0, 'P':0, 'Y':0})"
   ]
  },
  {
   "cell_type": "code",
   "execution_count": null,
   "metadata": {},
   "outputs": [],
   "source": [
    "# significant model\n",
    "lm_sig = ols(\"FPase ~ 1 + A + U + A:U + P + Y + A:Y + A:U:Y + A:P:Y + U:P:Y\", factor_24_table).fit()\n",
    "\n",
    "print(lm_sig.summary())"
   ]
  },
  {
   "cell_type": "code",
   "execution_count": null,
   "metadata": {},
   "outputs": [],
   "source": [
    "# significant model\n",
    "lm_sig = ols(\"FPase ~ 1 + A + U + A*U + P + Y + A*Y + A*U*Y + A*P*Y + U*P*Y\", factor_24_table).fit()\n",
    "\n",
    "print(lm_sig.summary())"
   ]
  },
  {
   "cell_type": "code",
   "execution_count": null,
   "metadata": {},
   "outputs": [],
   "source": [
    "import matplotlib.pyplot as plt\n",
    "\n",
    "u, y = np.meshgrid(\n",
    "    np.linspace(factor_24_levels['U']['-1'], factor_24_levels['U']['1'], 10),\n",
    "    np.linspace(factor_24_levels['Y']['-1'], factor_24_levels['Y']['1'], 10),\n",
    "    )\n",
    "\n",
    "fig, ax = plt.subplots(subplot_kw={\"projection\": \"3d\"})\n",
    "\n",
    "\n",
    "ax.plot_surface(u, y, \n",
    "                lm.predict(pd.DataFrame(\n",
    "                    {\n",
    "                        'U': u.ravel(), \n",
    "                        'A': np.ones_like(u.ravel())*factor_24_levels['A']['0'],  \n",
    "                        'Y':y.ravel(),\n",
    "                        'P': np.ones_like(u.ravel())*factor_24_levels['P']['0']\n",
    "                    })).values.reshape(u.shape), cmap='viridis', edgecolor='none')"
   ]
  },
  {
   "attachments": {},
   "cell_type": "markdown",
   "metadata": {},
   "source": [
    "# Central Composite Rotational Design"
   ]
  },
  {
   "cell_type": "code",
   "execution_count": null,
   "metadata": {},
   "outputs": [],
   "source": [
    "ccrm_table = StringIO(\"\"\"\n",
    "U\tY\tFPase\tCMCase\tBglucosidase\n",
    "-1\t-1\t158\t4029\t727\n",
    "-1\t1\t171\t4354\t1119\n",
    "1\t-1\t166\t5302\t1080\n",
    "1\t1\t244\t5513\t1101\n",
    "-1.41\t0\t148\t4481\t743\n",
    "1.41\t0\t263\t6529\t1213\n",
    "0\t-1.41\t208\t5460\t1085\n",
    "0\t1.41\t255\t7105\t1435\n",
    "0\t0\t250\t5364\t1390\n",
    "0\t0\t269\t5524\t1499\n",
    "0\t0\t261\t5793\t1420\n",
    "\"\"\")\n",
    "ccrm_table = pd.read_table(ccrm_table, delimiter='\\t')\n",
    "ccrm_table"
   ]
  },
  {
   "cell_type": "code",
   "execution_count": null,
   "metadata": {},
   "outputs": [],
   "source": [
    "ccrm_levels = StringIO(\"\"\"\n",
    "\t-1.41\t-1\t0\t1\t1.41\n",
    "U\t0.07\t0.4\t1.2\t2\t2.33\n",
    "Y\t0\t0.09\t0.29\t0.5\t0.59\n",
    "\"\"\")\n",
    "\n",
    "ccrm_levels = pd.read_table(ccrm_levels, delimiter='\\s+').T\n",
    "ccrm_levels"
   ]
  },
  {
   "cell_type": "code",
   "execution_count": null,
   "metadata": {},
   "outputs": [],
   "source": [
    "to_int = lambda x: int(x) if not x%1 else x\n",
    "\n",
    "def substitute_leveles(table, levels, columns=['U', 'Y']):\n",
    "    for column in columns:\n",
    "        for i,val in enumerate(table[column]):\n",
    "            table[column][i] = levels[column][f\"{to_int(val)}\"]\n",
    "    return table\n",
    "\n",
    "#ccrm_table = substitute_leveles(ccrm_table, ccrm_levels, columns=['U', 'Y'])"
   ]
  },
  {
   "cell_type": "code",
   "execution_count": null,
   "metadata": {},
   "outputs": [],
   "source": [
    "ccrm_table"
   ]
  },
  {
   "cell_type": "code",
   "execution_count": null,
   "metadata": {},
   "outputs": [],
   "source": [
    "import seaborn as sns\n",
    "\n",
    "#sns.paretoplot(ccrm_table, x='FPase', y='CMCase')"
   ]
  },
  {
   "cell_type": "code",
   "execution_count": null,
   "metadata": {},
   "outputs": [],
   "source": [
    "U = ccrm_table.U\n",
    "Y = ccrm_table.Y\n",
    "FPase = ccrm_table.FPase\n",
    "CMCase = ccrm_table.CMCase\n",
    "Bglucosidase = ccrm_table.Bglucosidase\n"
   ]
  },
  {
   "cell_type": "code",
   "execution_count": null,
   "metadata": {},
   "outputs": [],
   "source": [
    "formula = \"FPase ~ 1 + np.power(U,2) + np.power(Y,2) + U + Y\"\n",
    "#formula = \"FPase ~ 1 + U*Y\"\n",
    "lm = ols(formula, ccrm_table).fit(cov_type='HC1')\n",
    "print(lm.summary())"
   ]
  },
  {
   "cell_type": "code",
   "execution_count": null,
   "metadata": {},
   "outputs": [],
   "source": [
    "lm.predict(ccrm_table[['U','Y']])"
   ]
  },
  {
   "cell_type": "code",
   "execution_count": null,
   "metadata": {},
   "outputs": [],
   "source": [
    "anova_lm(lm, type=3)"
   ]
  },
  {
   "cell_type": "code",
   "execution_count": null,
   "metadata": {},
   "outputs": [],
   "source": [
    "import matplotlib.pyplot as plt\n",
    "\n",
    "u, y = np.meshgrid(np.linspace(-2, 2, 100), np.linspace(-2, 2, 100))\n",
    "\n",
    "fig, ax = plt.subplots(subplot_kw={\"projection\": \"3d\"})\n",
    "ax.plot_surface(u, y, lm.predict(pd.DataFrame({'U':u.ravel(), 'Y':y.ravel()})).values.reshape(u.shape), cmap='viridis', edgecolor='none')"
   ]
  },
  {
   "cell_type": "code",
   "execution_count": null,
   "metadata": {},
   "outputs": [],
   "source": [
    "print(anova_lm(lm))\n",
    "print(anova_lm(lm, typ=2))\n",
    "print(anova_lm(lm, typ=3))"
   ]
  },
  {
   "cell_type": "code",
   "execution_count": null,
   "metadata": {},
   "outputs": [],
   "source": [
    "from matplotlib import pyplot as plt\n",
    "\n",
    "\n",
    "fig, ax = plt.subplots(figsize=(6, 6))\n",
    "fig = interaction_plot(\n",
    "    x=U.drop([4,5,6,7]),\n",
    "    trace=Y.drop([4,5,6,7]),\n",
    "    response=FPase.drop([4,5,6,7]),\n",
    "    #colors=[\"red\", \"blue\"],\n",
    "    #markers=[\"D\", \"^\"],\n",
    "    #ms=10,\n",
    "    ax=ax,\n",
    ")\n"
   ]
  },
  {
   "cell_type": "code",
   "execution_count": null,
   "metadata": {},
   "outputs": [],
   "source": [
    "# base code\n",
    "import numpy as np\n",
    "import seaborn as sns\n",
    "from statsmodels.tools.tools import maybe_unwrap_results\n",
    "from statsmodels.graphics.gofplots import ProbPlot\n",
    "from statsmodels.stats.outliers_influence import variance_inflation_factor\n",
    "import matplotlib.pyplot as plt\n",
    "from typing import Type\n",
    "import statsmodels\n",
    "\n",
    "style_talk = 'seaborn-talk'    #refer to plt.style.available\n",
    "\n",
    "class LinearRegDiagnostic():\n",
    "    \"\"\"\n",
    "    Diagnostic plots to identify potential problems in a linear regression fit.\n",
    "    Mainly,\n",
    "        a. non-linearity of data\n",
    "        b. Correlation of error terms\n",
    "        c. non-constant variance\n",
    "        d. outliers\n",
    "        e. high-leverage points\n",
    "        f. collinearity\n",
    "\n",
    "    Authors:\n",
    "        Prajwal Kafle (p33ajkafle@gmail.com, where 3 = r)\n",
    "        Does not come with any sort of warranty.\n",
    "        Please test the code one your end before using.\n",
    "\n",
    "        Matt Spinelli (m3spinelli@gmail.com, where 3 = r)\n",
    "        (1) Fixed incorrect annotation of the top most extreme residuals in\n",
    "            the Residuals vs Fitted and, especially, the Normal Q-Q plots.\n",
    "        (2) Changed Residuals vs Leverage plot to match closer the y-axis\n",
    "            range shown in the equivalent plot in the R package ggfortify.\n",
    "        (3) Added horizontal line at y=0 in Residuals vs Leverage plot to\n",
    "            match the plots in R package ggfortify and base R.\n",
    "        (4) Added option for placing a vertical guideline on the Residuals\n",
    "            vs Leverage plot using the rule of thumb of h = 2p/n to denote\n",
    "            high leverage (high_leverage_threshold=True).\n",
    "        (5) Added two more ways to compute the Cook's Distance (D) threshold:\n",
    "            * 'baseR': D > 1 and D > 0.5 (default)\n",
    "            * 'convention': D > 4/n\n",
    "            * 'dof': D > 4 / (n - k - 1)\n",
    "        (6) Fixed class name to conform to Pascal casing convention\n",
    "        (7) Fixed Residuals vs Leverage legend to work with loc='best'\n",
    "    \"\"\"\n",
    "\n",
    "    def __init__(self,\n",
    "                 results: Type[statsmodels.regression.linear_model.RegressionResultsWrapper]) -> None:\n",
    "        \"\"\"\n",
    "        For a linear regression model, generates following diagnostic plots:\n",
    "\n",
    "        a. residual\n",
    "        b. qq\n",
    "        c. scale location and\n",
    "        d. leverage\n",
    "\n",
    "        and a table\n",
    "\n",
    "        e. vif\n",
    "\n",
    "        Args:\n",
    "            results (Type[statsmodels.regression.linear_model.RegressionResultsWrapper]):\n",
    "                must be instance of statsmodels.regression.linear_model object\n",
    "\n",
    "        Raises:\n",
    "            TypeError: if instance does not belong to above object\n",
    "\n",
    "        Example:\n",
    "        >>> import numpy as np\n",
    "        >>> import pandas as pd\n",
    "        >>> import statsmodels.formula.api as smf\n",
    "        >>> x = np.linspace(-np.pi, np.pi, 100)\n",
    "        >>> y = 3*x + 8 + np.random.normal(0,1, 100)\n",
    "        >>> df = pd.DataFrame({'x':x, 'y':y})\n",
    "        >>> res = smf.ols(formula= \"y ~ x\", data=df).fit()\n",
    "        >>> cls = Linear_Reg_Diagnostic(res)\n",
    "        >>> cls(plot_context=\"seaborn-paper\")\n",
    "\n",
    "        In case you do not need all plots you can also independently make an individual plot/table\n",
    "        in following ways\n",
    "\n",
    "        >>> cls = Linear_Reg_Diagnostic(res)\n",
    "        >>> cls.residual_plot()\n",
    "        >>> cls.qq_plot()\n",
    "        >>> cls.scale_location_plot()\n",
    "        >>> cls.leverage_plot()\n",
    "        >>> cls.vif_table()\n",
    "        \"\"\"\n",
    "\n",
    "        if isinstance(results, statsmodels.regression.linear_model.RegressionResultsWrapper) is False:\n",
    "            raise TypeError(\"result must be instance of statsmodels.regression.linear_model.RegressionResultsWrapper object\")\n",
    "\n",
    "        self.results = maybe_unwrap_results(results)\n",
    "\n",
    "        self.y_true = self.results.model.endog\n",
    "        self.y_predict = self.results.fittedvalues\n",
    "        self.xvar = self.results.model.exog\n",
    "        self.xvar_names = self.results.model.exog_names\n",
    "\n",
    "        self.residual = np.array(self.results.resid)\n",
    "        influence = self.results.get_influence()\n",
    "        self.residual_norm = influence.resid_studentized_internal\n",
    "        self.leverage = influence.hat_matrix_diag\n",
    "        self.cooks_distance = influence.cooks_distance[0]\n",
    "        self.nparams = len(self.results.params)\n",
    "        self.nresids = len(self.residual_norm)\n",
    "\n",
    "    def __call__(self, plot_context='seaborn-paper', **kwargs):\n",
    "        # print(plt.style.available)\n",
    "        with plt.style.context(plot_context):\n",
    "            fig, ax = plt.subplots(nrows=2, ncols=2, figsize=(10,10))\n",
    "            self.residual_plot(ax=ax[0,0])\n",
    "            self.qq_plot(ax=ax[0,1])\n",
    "            self.scale_location_plot(ax=ax[1,0])\n",
    "            self.leverage_plot(\n",
    "                ax=ax[1,1],\n",
    "                high_leverage_threshold = kwargs.get('high_leverage_threshold'),\n",
    "                cooks_threshold = kwargs.get('cooks_threshold'))\n",
    "            plt.show()\n",
    "\n",
    "        return self.vif_table(), fig, ax,\n",
    "\n",
    "    def residual_plot(self, ax=None):\n",
    "        \"\"\"\n",
    "        Residual vs Fitted Plot\n",
    "\n",
    "        Graphical tool to identify non-linearity.\n",
    "        (Roughly) Horizontal red line is an indicator that the residual has a linear pattern\n",
    "        \"\"\"\n",
    "        if ax is None:\n",
    "            fig, ax = plt.subplots()\n",
    "\n",
    "        sns.residplot(\n",
    "            x=self.y_predict,\n",
    "            y=self.residual,\n",
    "            lowess=True,\n",
    "            scatter_kws={'alpha': 0.5},\n",
    "            line_kws={'color': 'red', 'lw': 1, 'alpha': 0.8},\n",
    "            ax=ax)\n",
    "\n",
    "        # annotations\n",
    "        residual_abs = np.abs(self.residual)\n",
    "        abs_resid = np.flip(np.argsort(residual_abs), 0)\n",
    "        abs_resid_top_3 = abs_resid[:3]\n",
    "        for i in abs_resid_top_3:\n",
    "            ax.annotate(\n",
    "                i,\n",
    "                xy=(self.y_predict[i], self.residual[i]),\n",
    "                color='C3')\n",
    "\n",
    "        ax.set_title('Residuals vs Fitted', fontweight=\"bold\")\n",
    "        ax.set_xlabel('Fitted values')\n",
    "        ax.set_ylabel('Residuals')\n",
    "        return ax\n",
    "\n",
    "    def qq_plot(self, ax=None):\n",
    "        \"\"\"\n",
    "        Standarized Residual vs Theoretical Quantile plot\n",
    "\n",
    "        Used to visually check if residuals are normally distributed.\n",
    "        Points spread along the diagonal line will suggest so.\n",
    "        \"\"\"\n",
    "        if ax is None:\n",
    "            fig, ax = plt.subplots()\n",
    "\n",
    "        QQ = ProbPlot(self.residual_norm)\n",
    "        fig = QQ.qqplot(line='45', alpha=0.5, lw=1, ax=ax)\n",
    "\n",
    "        # annotations\n",
    "        abs_norm_resid = np.flip(np.argsort(np.abs(self.residual_norm)), 0)\n",
    "        abs_norm_resid_top_3 = abs_norm_resid[:3]\n",
    "        for i, x, y in self.__qq_top_resid(QQ.theoretical_quantiles, abs_norm_resid_top_3):\n",
    "            ax.annotate(\n",
    "                i,\n",
    "                xy=(x, y),\n",
    "                ha='right',\n",
    "                color='C3')\n",
    "\n",
    "        ax.set_title('Normal Q-Q', fontweight=\"bold\")\n",
    "        ax.set_xlabel('Theoretical Quantiles')\n",
    "        ax.set_ylabel('Standardized Residuals')\n",
    "        return ax\n",
    "\n",
    "    def scale_location_plot(self, ax=None):\n",
    "        \"\"\"\n",
    "        Sqrt(Standarized Residual) vs Fitted values plot\n",
    "\n",
    "        Used to check homoscedasticity of the residuals.\n",
    "        Horizontal line will suggest so.\n",
    "        \"\"\"\n",
    "        if ax is None:\n",
    "            fig, ax = plt.subplots()\n",
    "\n",
    "        residual_norm_abs_sqrt = np.sqrt(np.abs(self.residual_norm))\n",
    "\n",
    "        ax.scatter(self.y_predict, residual_norm_abs_sqrt, alpha=0.5);\n",
    "        sns.regplot(\n",
    "            x=self.y_predict,\n",
    "            y=residual_norm_abs_sqrt,\n",
    "            scatter=False, ci=False,\n",
    "            lowess=True,\n",
    "            line_kws={'color': 'red', 'lw': 1, 'alpha': 0.8},\n",
    "            ax=ax)\n",
    "\n",
    "        # annotations\n",
    "        abs_sq_norm_resid = np.flip(np.argsort(residual_norm_abs_sqrt), 0)\n",
    "        abs_sq_norm_resid_top_3 = abs_sq_norm_resid[:3]\n",
    "        for i in abs_sq_norm_resid_top_3:\n",
    "            ax.annotate(\n",
    "                i,\n",
    "                xy=(self.y_predict[i], residual_norm_abs_sqrt[i]),\n",
    "                color='C3')\n",
    "\n",
    "        ax.set_title('Scale-Location', fontweight=\"bold\")\n",
    "        ax.set_xlabel('Fitted values')\n",
    "        ax.set_ylabel(r'$\\sqrt{|\\mathrm{Standardized\\ Residuals}|}$');\n",
    "        return ax\n",
    "\n",
    "    def leverage_plot(self, ax=None, high_leverage_threshold=False, cooks_threshold='baseR'):\n",
    "        \"\"\"\n",
    "        Residual vs Leverage plot\n",
    "\n",
    "        Points falling outside Cook's distance curves are considered observation that can sway the fit\n",
    "        aka are influential.\n",
    "        Good to have none outside the curves.\n",
    "        \"\"\"\n",
    "        if ax is None:\n",
    "            fig, ax = plt.subplots()\n",
    "\n",
    "        ax.scatter(\n",
    "            self.leverage,\n",
    "            self.residual_norm,\n",
    "            alpha=0.5);\n",
    "\n",
    "        sns.regplot(\n",
    "            x=self.leverage,\n",
    "            y=self.residual_norm,\n",
    "            scatter=False,\n",
    "            ci=False,\n",
    "            lowess=True,\n",
    "            line_kws={'color': 'red', 'lw': 1, 'alpha': 0.8},\n",
    "            ax=ax)\n",
    "\n",
    "        # annotations\n",
    "        leverage_top_3 = np.flip(np.argsort(self.cooks_distance), 0)[:3]\n",
    "        for i in leverage_top_3:\n",
    "            ax.annotate(\n",
    "                i,\n",
    "                xy=(self.leverage[i], self.residual_norm[i]),\n",
    "                color = 'C3')\n",
    "\n",
    "        factors = []\n",
    "        if cooks_threshold == 'baseR' or cooks_threshold is None:\n",
    "            factors = [1, 0.5]\n",
    "        elif cooks_threshold == 'convention':\n",
    "            factors = [4/self.nresids]\n",
    "        elif cooks_threshold == 'dof':\n",
    "            factors = [4/ (self.nresids - self.nparams)]\n",
    "        else:\n",
    "            raise ValueError(\"threshold_method must be one of the following: 'convention', 'dof', or 'baseR' (default)\")\n",
    "        for i, factor in enumerate(factors):\n",
    "            label = \"Cook's distance\" if i == 0 else None\n",
    "            xtemp, ytemp = self.__cooks_dist_line(factor)\n",
    "            ax.plot(xtemp, ytemp, label=label, lw=1.25, ls='--', color='red')\n",
    "            ax.plot(xtemp, np.negative(ytemp), lw=1.25, ls='--', color='red')\n",
    "\n",
    "        if high_leverage_threshold:\n",
    "            high_leverage = 2 * self.nparams / self.nresids\n",
    "            if max(self.leverage) > high_leverage:\n",
    "                ax.axvline(high_leverage, label='High leverage', ls='-.', color='purple', lw=1)\n",
    "\n",
    "        ax.axhline(0, ls='dotted', color='black', lw=1.25)\n",
    "        ax.set_xlim(0, max(self.leverage)+0.01)\n",
    "        ax.set_ylim(min(self.residual_norm)-0.1, max(self.residual_norm)+0.1)\n",
    "        ax.set_title('Residuals vs Leverage', fontweight=\"bold\")\n",
    "        ax.set_xlabel('Leverage')\n",
    "        ax.set_ylabel('Standardized Residuals')\n",
    "        plt.legend(loc='best')\n",
    "        return ax\n",
    "\n",
    "    def vif_table(self):\n",
    "        \"\"\"\n",
    "        VIF table\n",
    "\n",
    "        VIF, the variance inflation factor, is a measure of multicollinearity.\n",
    "        VIF > 5 for a variable indicates that it is highly collinear with the\n",
    "        other input variables.\n",
    "        \"\"\"\n",
    "        vif_df = pd.DataFrame()\n",
    "        vif_df[\"Features\"] = self.xvar_names\n",
    "        vif_df[\"VIF Factor\"] = [variance_inflation_factor(self.xvar, i) for i in range(self.xvar.shape[1])]\n",
    "\n",
    "        return (vif_df\n",
    "                .sort_values(\"VIF Factor\")\n",
    "                .round(2))\n",
    "\n",
    "\n",
    "    def __cooks_dist_line(self, factor):\n",
    "        \"\"\"\n",
    "        Helper function for plotting Cook's distance curves\n",
    "        \"\"\"\n",
    "        p = self.nparams\n",
    "        formula = lambda x: np.sqrt((factor * p * (1 - x)) / x)\n",
    "        x = np.linspace(0.001, max(self.leverage), 50)\n",
    "        y = formula(x)\n",
    "        return x, y\n",
    "\n",
    "\n",
    "    def __qq_top_resid(self, quantiles, top_residual_indices):\n",
    "        \"\"\"\n",
    "        Helper generator function yielding the index and coordinates\n",
    "        \"\"\"\n",
    "        offset = 0\n",
    "        quant_index = 0\n",
    "        previous_is_negative = None\n",
    "        for resid_index in top_residual_indices:\n",
    "            y = self.residual_norm[resid_index]\n",
    "            is_negative = y < 0\n",
    "            if previous_is_negative == None or previous_is_negative == is_negative:\n",
    "                offset += 1\n",
    "            else:\n",
    "                quant_index -= offset\n",
    "            x = quantiles[quant_index] if is_negative else np.flip(quantiles, 0)[quant_index]\n",
    "            quant_index += 1\n",
    "            previous_is_negative = is_negative\n",
    "            yield resid_index, x, y\n"
   ]
  },
  {
   "cell_type": "code",
   "execution_count": null,
   "metadata": {},
   "outputs": [],
   "source": [
    "cls = LinearRegDiagnostic(lm)"
   ]
  },
  {
   "cell_type": "code",
   "execution_count": null,
   "metadata": {},
   "outputs": [],
   "source": [
    "cls.scale_location_plot()"
   ]
  },
  {
   "cell_type": "code",
   "execution_count": null,
   "metadata": {},
   "outputs": [],
   "source": [
    "cls.leverage_plot()"
   ]
  },
  {
   "cell_type": "code",
   "execution_count": null,
   "metadata": {},
   "outputs": [],
   "source": [
    "cls.leverage_plot(high_leverage_threshold=True, cooks_threshold='dof')"
   ]
  },
  {
   "cell_type": "code",
   "execution_count": null,
   "metadata": {},
   "outputs": [],
   "source": [
    "from sklearn.linear_model import LinearRegression\n",
    "from sklearn.preprocessing import PolynomialFeatures\n",
    "\n",
    "\n",
    "poly = PolynomialFeatures(degree=2, include_bias=True, interaction_only=True)\n",
    "X = poly.fit_transform(ccrm_table[['U','Y']])\n",
    "y = ccrm_table['FPase']\n",
    "poly.fit(X, y)\n",
    "\n",
    "lin = LinearRegression(fit_intercept=False)\n",
    "lin.fit(X, y)"
   ]
  },
  {
   "cell_type": "code",
   "execution_count": null,
   "metadata": {},
   "outputs": [],
   "source": [
    "cls = LinearRegDiagnostic(lm)\n",
    "vif, fig, ax = cls()\n",
    "print(vif)"
   ]
  },
  {
   "cell_type": "code",
   "execution_count": null,
   "metadata": {},
   "outputs": [],
   "source": [
    "import statsmodels.api as sm\n",
    "fig = sm.graphics.influence_plot(lm, criterion=\"cooks\")\n",
    "fig.tight_layout(pad=1.0)"
   ]
  },
  {
   "cell_type": "code",
   "execution_count": null,
   "metadata": {},
   "outputs": [],
   "source": [
    "fig = sm.graphics.plot_partregress_grid(lm)\n",
    "fig.tight_layout(pad=1.0)"
   ]
  },
  {
   "cell_type": "code",
   "execution_count": null,
   "metadata": {},
   "outputs": [],
   "source": [
    "fig = sm.graphics.plot_regress_exog(lm, \"U\")\n",
    "fig.tight_layout(pad=1.0)"
   ]
  },
  {
   "cell_type": "code",
   "execution_count": null,
   "metadata": {},
   "outputs": [],
   "source": [
    "fig = sm.graphics.plot_fit(lm, \"U\")\n",
    "fig.tight_layout(pad=1.0)"
   ]
  },
  {
   "cell_type": "code",
   "execution_count": null,
   "metadata": {},
   "outputs": [],
   "source": [
    "import statsmodels.api as sm\n",
    "import statsmodels.formula.api as smf\n",
    "md = smf.mixedlm(formula, ccrm_table, groups=ccrm_table['U']\n",
    ")\n",
    "mdf = md.fit(method=[\"lbfgs\"])\n",
    "print(mdf.summary())"
   ]
  },
  {
   "cell_type": "code",
   "execution_count": null,
   "metadata": {},
   "outputs": [],
   "source": [
    "lin.coef_"
   ]
  },
  {
   "cell_type": "markdown",
   "metadata": {},
   "source": []
  },
  {
   "cell_type": "code",
   "execution_count": null,
   "metadata": {},
   "outputs": [
    {
     "data": {
      "text/html": [
       "<div>\n",
       "<style scoped>\n",
       "    .dataframe tbody tr th:only-of-type {\n",
       "        vertical-align: middle;\n",
       "    }\n",
       "\n",
       "    .dataframe tbody tr th {\n",
       "        vertical-align: top;\n",
       "    }\n",
       "\n",
       "    .dataframe thead th {\n",
       "        text-align: right;\n",
       "    }\n",
       "</style>\n",
       "<table border=\"1\" class=\"dataframe\">\n",
       "  <thead>\n",
       "    <tr style=\"text-align: right;\">\n",
       "      <th></th>\n",
       "      <th>Fe</th>\n",
       "      <th>loss</th>\n",
       "    </tr>\n",
       "  </thead>\n",
       "  <tbody>\n",
       "    <tr>\n",
       "      <th>1</th>\n",
       "      <td>0.01</td>\n",
       "      <td>127.6</td>\n",
       "    </tr>\n",
       "    <tr>\n",
       "      <th>2</th>\n",
       "      <td>0.48</td>\n",
       "      <td>124.0</td>\n",
       "    </tr>\n",
       "    <tr>\n",
       "      <th>3</th>\n",
       "      <td>0.71</td>\n",
       "      <td>110.8</td>\n",
       "    </tr>\n",
       "    <tr>\n",
       "      <th>4</th>\n",
       "      <td>0.95</td>\n",
       "      <td>103.9</td>\n",
       "    </tr>\n",
       "    <tr>\n",
       "      <th>5</th>\n",
       "      <td>1.19</td>\n",
       "      <td>101.5</td>\n",
       "    </tr>\n",
       "    <tr>\n",
       "      <th>6</th>\n",
       "      <td>0.01</td>\n",
       "      <td>130.1</td>\n",
       "    </tr>\n",
       "    <tr>\n",
       "      <th>7</th>\n",
       "      <td>0.48</td>\n",
       "      <td>122.0</td>\n",
       "    </tr>\n",
       "    <tr>\n",
       "      <th>8</th>\n",
       "      <td>1.44</td>\n",
       "      <td>92.3</td>\n",
       "    </tr>\n",
       "    <tr>\n",
       "      <th>9</th>\n",
       "      <td>0.71</td>\n",
       "      <td>113.1</td>\n",
       "    </tr>\n",
       "    <tr>\n",
       "      <th>10</th>\n",
       "      <td>1.96</td>\n",
       "      <td>83.7</td>\n",
       "    </tr>\n",
       "    <tr>\n",
       "      <th>11</th>\n",
       "      <td>0.01</td>\n",
       "      <td>128.0</td>\n",
       "    </tr>\n",
       "    <tr>\n",
       "      <th>12</th>\n",
       "      <td>1.44</td>\n",
       "      <td>91.4</td>\n",
       "    </tr>\n",
       "    <tr>\n",
       "      <th>13</th>\n",
       "      <td>1.96</td>\n",
       "      <td>86.2</td>\n",
       "    </tr>\n",
       "  </tbody>\n",
       "</table>\n",
       "</div>"
      ],
      "text/plain": [
       "      Fe   loss\n",
       "1   0.01  127.6\n",
       "2   0.48  124.0\n",
       "3   0.71  110.8\n",
       "4   0.95  103.9\n",
       "5   1.19  101.5\n",
       "6   0.01  130.1\n",
       "7   0.48  122.0\n",
       "8   1.44   92.3\n",
       "9   0.71  113.1\n",
       "10  1.96   83.7\n",
       "11  0.01  128.0\n",
       "12  1.44   91.4\n",
       "13  1.96   86.2"
      ]
     },
     "execution_count": 1,
     "metadata": {},
     "output_type": "execute_result"
    }
   ],
   "source": [
    "import sys\n",
    "sys.path.append('/home/ppiper/Dropbox/local/github/explann')\n",
    "\n",
    "from explann.dataio import ImportData\n",
    "from explann.models import FactorialModel\n",
    "\n",
    "example_data = ImportData(\n",
    "\"\"\"\n",
    "Fe loss\n",
    "1 0.01 127.6\n",
    "2 0.48 124.0\n",
    "3 0.71 110.8\n",
    "4 0.95 103.9\n",
    "5 1.19 101.5\n",
    "6 0.01 130.1\n",
    "7 0.48 122.0\n",
    "8 1.44 92.3\n",
    "9 0.71 113.1\n",
    "10 1.96 83.7\n",
    "11 0.01 128.0\n",
    "12 1.44 91.4\n",
    "13 1.96 86.2\n",
    "\"\"\"\n",
    ", delimiter=' ', index_col=0)\n",
    "\n",
    "example_data.data"
   ]
  },
  {
   "cell_type": "code",
   "execution_count": null,
   "metadata": {},
   "outputs": [],
   "source": [
    "example_model  = FactorialModel(\n",
    "    data=example_data.data, \n",
    "    functions=\n",
    "    {\n",
    "        \"loss\" : \"loss ~ Fe\",\n",
    "    })"
   ]
  },
  {
   "cell_type": "code",
   "execution_count": null,
   "metadata": {},
   "outputs": [
    {
     "data": {
      "text/plain": [
       "{'loss': {'results':    df_resid         ssr  df_diff    ss_diff         F    Pr(>F)\n",
       "  0      11.0  102.850233      0.0        NaN       NaN       NaN\n",
       "  1       6.0   11.781667      5.0  91.068566  9.275621  0.008623,\n",
       "  'lack_of_fit': 91.06856635774612,\n",
       "  'pure_error': 11.781666666666647}}"
      ]
     },
     "execution_count": 5,
     "metadata": {},
     "output_type": "execute_result"
    }
   ],
   "source": [
    "example_model.lack_of_fit()"
   ]
  },
  {
   "cell_type": "code",
   "execution_count": null,
   "metadata": {},
   "outputs": [],
   "source": []
  }
 ],
 "metadata": {
  "kernelspec": {
   "display_name": "Python 3",
   "language": "python",
   "name": "python3"
  },
  "language_info": {
   "codemirror_mode": {
    "name": "ipython",
    "version": 3
   },
   "file_extension": ".py",
   "mimetype": "text/x-python",
   "name": "python",
   "nbconvert_exporter": "python",
   "pygments_lexer": "ipython3",
   "version": "3.11.3"
  },
  "orig_nbformat": 4
 },
 "nbformat": 4,
 "nbformat_minor": 2
}
