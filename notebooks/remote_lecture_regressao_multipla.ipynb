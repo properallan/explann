{
 "cells": [
  {
   "cell_type": "code",
   "execution_count": 1,
   "metadata": {},
   "outputs": [],
   "source": [
    "import sys\n",
    "sys.path.append('/home/ppiper/Dropbox/local/github/explann')\n",
    "\n",
    "from explann.dataio import ImportData\n",
    "from explann.plot import LinearRegDiagnostic"
   ]
  },
  {
   "cell_type": "code",
   "execution_count": 2,
   "metadata": {},
   "outputs": [
    {
     "name": "stderr",
     "output_type": "stream",
     "text": [
      "/home/ppiper/Dropbox/local/github/explann/explann/dataio/_readers.py:13: ParserWarning: Falling back to the 'python' engine because the 'c' engine does not support regex separators (separators > 1 char and different from '\\s+' are interpreted as regex); you can avoid this warning by specifying engine='python'.\n",
      "  data = pd.read_csv(StringIO(data), delimiter=delimiter, **kwargs)\n"
     ]
    }
   ],
   "source": [
    "table = ImportData(\"\"\"Observação\tTempo\tDose_de_íons\tGanho\n",
    "1\t195\t4\t1004\n",
    "2\t255\t4\t1636\n",
    "3\t195\t4.6\t852\n",
    "4\t255\t4.6\t1506\n",
    "5\t225\t4.2\t1272\n",
    "6\t225\t4.1\t1270\n",
    "7\t225\t4.6\t1269\n",
    "8\t195\t4.3\t903\n",
    "9\t255\t4.3\t1555\n",
    "10\t225\t4\t1260\n",
    "11\t225\t4.7\t1146\n",
    "12\t225\t4.3\t1276\n",
    "13\t225\t4.72\t1225\n",
    "14\t230\t4.3\t1321\n",
    "\"\"\", delimiter=\"\\s\")"
   ]
  },
  {
   "cell_type": "code",
   "execution_count": 3,
   "metadata": {},
   "outputs": [
    {
     "data": {
      "text/html": [
       "<div>\n",
       "<style scoped>\n",
       "    .dataframe tbody tr th:only-of-type {\n",
       "        vertical-align: middle;\n",
       "    }\n",
       "\n",
       "    .dataframe tbody tr th {\n",
       "        vertical-align: top;\n",
       "    }\n",
       "\n",
       "    .dataframe thead th {\n",
       "        text-align: right;\n",
       "    }\n",
       "</style>\n",
       "<table border=\"1\" class=\"dataframe\">\n",
       "  <thead>\n",
       "    <tr style=\"text-align: right;\">\n",
       "      <th></th>\n",
       "      <th>Observação</th>\n",
       "      <th>Tempo</th>\n",
       "      <th>Dose_de_íons</th>\n",
       "      <th>Ganho</th>\n",
       "    </tr>\n",
       "  </thead>\n",
       "  <tbody>\n",
       "    <tr>\n",
       "      <th>0</th>\n",
       "      <td>1</td>\n",
       "      <td>195</td>\n",
       "      <td>4.00</td>\n",
       "      <td>1004</td>\n",
       "    </tr>\n",
       "    <tr>\n",
       "      <th>1</th>\n",
       "      <td>2</td>\n",
       "      <td>255</td>\n",
       "      <td>4.00</td>\n",
       "      <td>1636</td>\n",
       "    </tr>\n",
       "    <tr>\n",
       "      <th>2</th>\n",
       "      <td>3</td>\n",
       "      <td>195</td>\n",
       "      <td>4.60</td>\n",
       "      <td>852</td>\n",
       "    </tr>\n",
       "    <tr>\n",
       "      <th>3</th>\n",
       "      <td>4</td>\n",
       "      <td>255</td>\n",
       "      <td>4.60</td>\n",
       "      <td>1506</td>\n",
       "    </tr>\n",
       "    <tr>\n",
       "      <th>4</th>\n",
       "      <td>5</td>\n",
       "      <td>225</td>\n",
       "      <td>4.20</td>\n",
       "      <td>1272</td>\n",
       "    </tr>\n",
       "    <tr>\n",
       "      <th>5</th>\n",
       "      <td>6</td>\n",
       "      <td>225</td>\n",
       "      <td>4.10</td>\n",
       "      <td>1270</td>\n",
       "    </tr>\n",
       "    <tr>\n",
       "      <th>6</th>\n",
       "      <td>7</td>\n",
       "      <td>225</td>\n",
       "      <td>4.60</td>\n",
       "      <td>1269</td>\n",
       "    </tr>\n",
       "    <tr>\n",
       "      <th>7</th>\n",
       "      <td>8</td>\n",
       "      <td>195</td>\n",
       "      <td>4.30</td>\n",
       "      <td>903</td>\n",
       "    </tr>\n",
       "    <tr>\n",
       "      <th>8</th>\n",
       "      <td>9</td>\n",
       "      <td>255</td>\n",
       "      <td>4.30</td>\n",
       "      <td>1555</td>\n",
       "    </tr>\n",
       "    <tr>\n",
       "      <th>9</th>\n",
       "      <td>10</td>\n",
       "      <td>225</td>\n",
       "      <td>4.00</td>\n",
       "      <td>1260</td>\n",
       "    </tr>\n",
       "    <tr>\n",
       "      <th>10</th>\n",
       "      <td>11</td>\n",
       "      <td>225</td>\n",
       "      <td>4.70</td>\n",
       "      <td>1146</td>\n",
       "    </tr>\n",
       "    <tr>\n",
       "      <th>11</th>\n",
       "      <td>12</td>\n",
       "      <td>225</td>\n",
       "      <td>4.30</td>\n",
       "      <td>1276</td>\n",
       "    </tr>\n",
       "    <tr>\n",
       "      <th>12</th>\n",
       "      <td>13</td>\n",
       "      <td>225</td>\n",
       "      <td>4.72</td>\n",
       "      <td>1225</td>\n",
       "    </tr>\n",
       "    <tr>\n",
       "      <th>13</th>\n",
       "      <td>14</td>\n",
       "      <td>230</td>\n",
       "      <td>4.30</td>\n",
       "      <td>1321</td>\n",
       "    </tr>\n",
       "  </tbody>\n",
       "</table>\n",
       "</div>"
      ],
      "text/plain": [
       "    Observação  Tempo  Dose_de_íons  Ganho\n",
       "0            1    195          4.00   1004\n",
       "1            2    255          4.00   1636\n",
       "2            3    195          4.60    852\n",
       "3            4    255          4.60   1506\n",
       "4            5    225          4.20   1272\n",
       "5            6    225          4.10   1270\n",
       "6            7    225          4.60   1269\n",
       "7            8    195          4.30    903\n",
       "8            9    255          4.30   1555\n",
       "9           10    225          4.00   1260\n",
       "10          11    225          4.70   1146\n",
       "11          12    225          4.30   1276\n",
       "12          13    225          4.72   1225\n",
       "13          14    230          4.30   1321"
      ]
     },
     "execution_count": 3,
     "metadata": {},
     "output_type": "execute_result"
    }
   ],
   "source": [
    "table.data"
   ]
  },
  {
   "cell_type": "code",
   "execution_count": 4,
   "metadata": {},
   "outputs": [],
   "source": [
    "from explann.models import FactorialModel\n",
    "\n",
    "fm = FactorialModel(\n",
    "    data = table.data,\n",
    "    functions = {\n",
    "        \"Modelo_1\": \"Ganho ~ Tempo*Dose_de_íons\",\n",
    "        \"Modelo_2\": \"Ganho ~ Tempo + Dose_de_íons\",\n",
    "    }\n",
    ")"
   ]
  },
  {
   "cell_type": "code",
   "execution_count": 5,
   "metadata": {},
   "outputs": [
    {
     "name": "stderr",
     "output_type": "stream",
     "text": [
      "/home/ppiper/micromamba/envs/explann/lib/python3.11/site-packages/statsmodels/regression/linear_model.py:1716: RuntimeWarning: divide by zero encountered in scalar divide\n",
      "  return np.dot(wresid, wresid) / self.df_resid\n",
      "/home/ppiper/Dropbox/local/github/explann/explann/models/_base.py:313: RuntimeWarning: divide by zero encountered in scalar divide\n",
      "  pure_error_mean_sq = pure_error_sum_sq/pure_error_gl\n"
     ]
    },
    {
     "data": {
      "text/plain": [
       "{'Modelo_1':   Source_of_Variation    df        sum_sq       mean_sq           F   F_table  \\\n",
       " 0          Regression   3.0  6.520871e+05  2.173624e+05  163.428933  3.708265   \n",
       " 1            Residual  10.0  1.330012e+04  1.330012e+03         NaN       NaN   \n",
       " 2         Lack_of_Fit  10.0  1.330012e+04  1.330012e+03    0.000000       NaN   \n",
       " 3          Pure_Error   0.0  8.491526e-24           inf         NaN       NaN   \n",
       " 4               Total  13.0  6.653872e+05           NaN         NaN       NaN   \n",
       " \n",
       "               p  \n",
       " 0  8.565448e-09  \n",
       " 1           NaN  \n",
       " 2           NaN  \n",
       " 3           NaN  \n",
       " 4           NaN  ,\n",
       " 'Modelo_2':   Source_of_Variation    df         sum_sq        mean_sq           F  \\\n",
       " 0          Regression   2.0  651966.098954  325983.049477  267.177016   \n",
       " 1            Residual  11.0   13421.115332    1220.101394         NaN   \n",
       " 2         Lack_of_Fit   7.0    5318.004221     759.714889    0.375024   \n",
       " 3          Pure_Error   4.0    8103.111111    2025.777778         NaN   \n",
       " 4               Total  13.0  665387.214286            NaN         NaN   \n",
       " \n",
       "     F_table             p  \n",
       " 0  3.982298  4.741633e-10  \n",
       " 1       NaN           NaN  \n",
       " 2  6.094211  8.780839e-01  \n",
       " 3       NaN           NaN  \n",
       " 4       NaN           NaN  }"
      ]
     },
     "execution_count": 5,
     "metadata": {},
     "output_type": "execute_result"
    }
   ],
   "source": [
    "fm.lack_of_fit()"
   ]
  },
  {
   "cell_type": "code",
   "execution_count": 6,
   "metadata": {},
   "outputs": [
    {
     "data": {
      "text/plain": [
       "{'Modelo_1':                       df         sum_sq        mean_sq           F  \\\n",
       " Tempo                1.0  630967.864928  630967.864928  474.407815   \n",
       " Dose_de_íons         1.0   20998.234026   20998.234026   15.788009   \n",
       " Tempo:Dose_de_íons   1.0     121.000000     121.000000    0.090977   \n",
       " Residual            10.0   13300.115332    1330.011533         NaN   \n",
       " \n",
       "                           PR(>F)  \n",
       " Tempo               9.307101e-10  \n",
       " Dose_de_íons        2.628800e-03  \n",
       " Tempo:Dose_de_íons  7.691183e-01  \n",
       " Residual                     NaN  ,\n",
       " 'Modelo_2':                 df         sum_sq        mean_sq           F        PR(>F)\n",
       " Tempo          1.0  630967.864928  630967.864928  517.143795  1.342060e-10\n",
       " Dose_de_íons   1.0   20998.234026   20998.234026   17.210237  1.620499e-03\n",
       " Residual      11.0   13421.115332    1220.101394         NaN           NaN}"
      ]
     },
     "execution_count": 6,
     "metadata": {},
     "output_type": "execute_result"
    }
   ],
   "source": [
    "fm.anova()"
   ]
  },
  {
   "cell_type": "code",
   "execution_count": 7,
   "metadata": {},
   "outputs": [
    {
     "name": "stderr",
     "output_type": "stream",
     "text": [
      "/home/ppiper/micromamba/envs/explann/lib/python3.11/site-packages/scipy/stats/_stats_py.py:1736: UserWarning: kurtosistest only valid for n>=20 ... continuing anyway, n=14\n",
      "  warnings.warn(\"kurtosistest only valid for n>=20 ... continuing \"\n",
      "/home/ppiper/micromamba/envs/explann/lib/python3.11/site-packages/scipy/stats/_stats_py.py:1736: UserWarning: kurtosistest only valid for n>=20 ... continuing anyway, n=14\n",
      "  warnings.warn(\"kurtosistest only valid for n>=20 ... continuing \"\n"
     ]
    },
    {
     "data": {
      "text/plain": [
       "{'Modelo_1': <class 'statsmodels.iolib.summary.Summary'>\n",
       " \"\"\"\n",
       "                             OLS Regression Results                            \n",
       " ==============================================================================\n",
       " Dep. Variable:                  Ganho   R-squared:                       0.980\n",
       " Model:                            OLS   Adj. R-squared:                  0.974\n",
       " Method:                 Least Squares   F-statistic:                     163.4\n",
       " Date:                Wed, 12 Jul 2023   Prob (F-statistic):           8.57e-09\n",
       " Time:                        15:19:19   Log-Likelihood:                -67.860\n",
       " No. Observations:                  14   AIC:                             143.7\n",
       " Df Residuals:                      10   BIC:                             146.3\n",
       " Df Model:                           3                                         \n",
       " Covariance Type:            nonrobust                                         \n",
       " ======================================================================================\n",
       "                          coef    std err          t      P>|t|      [0.025      0.975]\n",
       " --------------------------------------------------------------------------------------\n",
       " Intercept             71.1733   1970.461      0.036      0.972   -4319.287    4461.634\n",
       " Tempo                  8.1534      8.726      0.934      0.372     -11.290      27.597\n",
       " Dose_de_íons        -289.6489    457.472     -0.633      0.541   -1308.960     729.662\n",
       " Tempo:Dose_de_íons     0.6111      2.026      0.302      0.769      -3.903       5.125\n",
       " ==============================================================================\n",
       " Omnibus:                        0.863   Durbin-Watson:                   1.715\n",
       " Prob(Omnibus):                  0.650   Jarque-Bera (JB):                0.774\n",
       " Skew:                           0.352   Prob(JB):                        0.679\n",
       " Kurtosis:                       2.089   Cond. No.                     2.09e+05\n",
       " ==============================================================================\n",
       " \n",
       " Notes:\n",
       " [1] Standard Errors assume that the covariance matrix of the errors is correctly specified.\n",
       " [2] The condition number is large, 2.09e+05. This might indicate that there are\n",
       " strong multicollinearity or other numerical problems.\n",
       " \"\"\",\n",
       " 'Modelo_2': <class 'statsmodels.iolib.summary.Summary'>\n",
       " \"\"\"\n",
       "                             OLS Regression Results                            \n",
       " ==============================================================================\n",
       " Dep. Variable:                  Ganho   R-squared:                       0.980\n",
       " Model:                            OLS   Adj. R-squared:                  0.976\n",
       " Method:                 Least Squares   F-statistic:                     267.2\n",
       " Date:                Wed, 12 Jul 2023   Prob (F-statistic):           4.74e-10\n",
       " Time:                        15:19:19   Log-Likelihood:                -67.924\n",
       " No. Observations:                  14   AIC:                             141.8\n",
       " Df Residuals:                      11   BIC:                             143.8\n",
       " Df Model:                           2                                         \n",
       " Covariance Type:            nonrobust                                         \n",
       " ================================================================================\n",
       "                    coef    std err          t      P>|t|      [0.025      0.975]\n",
       " --------------------------------------------------------------------------------\n",
       " Intercept     -520.0767    192.107     -2.707      0.020    -942.902     -97.252\n",
       " Tempo           10.7812      0.474     22.730      0.000       9.737      11.825\n",
       " Dose_de_íons  -152.1489     36.675     -4.149      0.002    -232.871     -71.427\n",
       " ==============================================================================\n",
       " Omnibus:                        0.901   Durbin-Watson:                   1.692\n",
       " Prob(Omnibus):                  0.637   Jarque-Bera (JB):                0.795\n",
       " Skew:                           0.361   Prob(JB):                        0.672\n",
       " Kurtosis:                       2.083   Cond. No.                     4.71e+03\n",
       " ==============================================================================\n",
       " \n",
       " Notes:\n",
       " [1] Standard Errors assume that the covariance matrix of the errors is correctly specified.\n",
       " [2] The condition number is large, 4.71e+03. This might indicate that there are\n",
       " strong multicollinearity or other numerical problems.\n",
       " \"\"\"}"
      ]
     },
     "execution_count": 7,
     "metadata": {},
     "output_type": "execute_result"
    }
   ],
   "source": [
    "fm.summary()"
   ]
  },
  {
   "cell_type": "code",
   "execution_count": 11,
   "metadata": {},
   "outputs": [
    {
     "data": {
      "text/plain": [
       "{'Modelo_1': 'Modelo_1 = ',\n",
       " 'Modelo_2': 'Modelo_2 = - 520.0767 + 10.7812 Tempo - 152.1489 Dose_de_íons'}"
      ]
     },
     "execution_count": 11,
     "metadata": {},
     "output_type": "execute_result"
    }
   ],
   "source": [
    "fm.print_equation(pvalue=0.05)"
   ]
  },
  {
   "cell_type": "code",
   "execution_count": 35,
   "metadata": {},
   "outputs": [
    {
     "data": {
      "text/plain": [
       "{'Modelo_1': 'Ganho ~ Tempo', 'Modelo_2': 'Ganho ~ 1 + Tempo + Dose_de_íons'}"
      ]
     },
     "execution_count": 35,
     "metadata": {},
     "output_type": "execute_result"
    }
   ],
   "source": [
    "fm.get_significant_model_functions(pvalue=0.5)"
   ]
  },
  {
   "cell_type": "code",
   "execution_count": 10,
   "metadata": {},
   "outputs": [],
   "source": [
    "ld = LinearRegDiagnostic(fm['Ganho'])"
   ]
  },
  {
   "cell_type": "code",
   "execution_count": 11,
   "metadata": {},
   "outputs": [
    {
     "data": {
      "text/plain": [
       "<Axes: title={'center': 'Normal Q-Q'}, xlabel='Theoretical Quantiles', ylabel='Standardized Residuals'>"
      ]
     },
     "execution_count": 11,
     "metadata": {},
     "output_type": "execute_result"
    },
    {
     "data": {
      "image/png": "[encoded data removed]",
      "text/plain": [
       "<Figure size 640x480 with 1 Axes>"
      ]
     },
     "metadata": {},
     "output_type": "display_data"
    }
   ],
   "source": [
    "ld.qq_plot()"
   ]
  },
  {
   "cell_type": "code",
   "execution_count": 12,
   "metadata": {},
   "outputs": [
    {
     "data": {
      "text/plain": [
       "<Axes: title={'center': 'Residuals vs Fitted'}, xlabel='Fitted values', ylabel='Residuals'>"
      ]
     },
     "execution_count": 12,
     "metadata": {},
     "output_type": "execute_result"
    },
    {
     "data": {
      "image/png": "[encoded data removed]",
      "text/plain": [
       "<Figure size 640x480 with 1 Axes>"
      ]
     },
     "metadata": {},
     "output_type": "display_data"
    }
   ],
   "source": [
    "ld.residual_plot()"
   ]
  },
  {
   "cell_type": "code",
   "execution_count": 13,
   "metadata": {},
   "outputs": [
    {
     "data": {
      "text/plain": [
       "<Axes: title={'center': 'Residuals vs Leverage'}, xlabel='Leverage', ylabel='Standardized Residuals'>"
      ]
     },
     "execution_count": 13,
     "metadata": {},
     "output_type": "execute_result"
    },
    {
     "data": {
      "image/png": "[encoded data removed]",
      "text/plain": [
       "<Figure size 640x480 with 1 Axes>"
      ]
     },
     "metadata": {},
     "output_type": "display_data"
    }
   ],
   "source": [
    "ld.leverage_plot()"
   ]
  },
  {
   "cell_type": "code",
   "execution_count": 15,
   "metadata": {},
   "outputs": [
    {
     "data": {
      "text/plain": [
       "['HC0_se',\n",
       " 'HC1_se',\n",
       " 'HC2_se',\n",
       " 'HC3_se',\n",
       " '_HCCM',\n",
       " '__class__',\n",
       " '__delattr__',\n",
       " '__dict__',\n",
       " '__dir__',\n",
       " '__doc__',\n",
       " '__eq__',\n",
       " '__format__',\n",
       " '__ge__',\n",
       " '__getattribute__',\n",
       " '__getstate__',\n",
       " '__gt__',\n",
       " '__hash__',\n",
       " '__init__',\n",
       " '__init_subclass__',\n",
       " '__le__',\n",
       " '__lt__',\n",
       " '__module__',\n",
       " '__ne__',\n",
       " '__new__',\n",
       " '__reduce__',\n",
       " '__reduce_ex__',\n",
       " '__repr__',\n",
       " '__setattr__',\n",
       " '__sizeof__',\n",
       " '__str__',\n",
       " '__subclasshook__',\n",
       " '__weakref__',\n",
       " '_abat_diagonal',\n",
       " '_cache',\n",
       " '_data_attr',\n",
       " '_data_in_cache',\n",
       " '_get_robustcov_results',\n",
       " '_get_wald_nonlinear',\n",
       " '_is_nested',\n",
       " '_transform_predict_exog',\n",
       " '_use_t',\n",
       " '_wexog_singular_values',\n",
       " 'aic',\n",
       " 'bic',\n",
       " 'bse',\n",
       " 'centered_tss',\n",
       " 'compare_f_test',\n",
       " 'compare_lm_test',\n",
       " 'compare_lr_test',\n",
       " 'condition_number',\n",
       " 'conf_int',\n",
       " 'conf_int_el',\n",
       " 'cov_HC0',\n",
       " 'cov_HC1',\n",
       " 'cov_HC2',\n",
       " 'cov_HC3',\n",
       " 'cov_kwds',\n",
       " 'cov_params',\n",
       " 'cov_type',\n",
       " 'df_model',\n",
       " 'df_resid',\n",
       " 'diagn',\n",
       " 'eigenvals',\n",
       " 'el_test',\n",
       " 'ess',\n",
       " 'f_pvalue',\n",
       " 'f_test',\n",
       " 'fittedvalues',\n",
       " 'fvalue',\n",
       " 'get_influence',\n",
       " 'get_prediction',\n",
       " 'get_robustcov_results',\n",
       " 'info_criteria',\n",
       " 'initialize',\n",
       " 'k_constant',\n",
       " 'llf',\n",
       " 'load',\n",
       " 'model',\n",
       " 'mse_model',\n",
       " 'mse_resid',\n",
       " 'mse_total',\n",
       " 'nobs',\n",
       " 'normalized_cov_params',\n",
       " 'outlier_test',\n",
       " 'params',\n",
       " 'predict',\n",
       " 'pvalues',\n",
       " 'remove_data',\n",
       " 'resid',\n",
       " 'resid_pearson',\n",
       " 'rsquared',\n",
       " 'rsquared_adj',\n",
       " 'save',\n",
       " 'scale',\n",
       " 'ssr',\n",
       " 'summary',\n",
       " 'summary2',\n",
       " 't_test',\n",
       " 't_test_pairwise',\n",
       " 'tvalues',\n",
       " 'uncentered_tss',\n",
       " 'use_t',\n",
       " 'wald_test',\n",
       " 'wald_test_terms',\n",
       " 'wresid']"
      ]
     },
     "execution_count": 15,
     "metadata": {},
     "output_type": "execute_result"
    }
   ],
   "source": [
    "dir(fm['Ganho'])"
   ]
  },
  {
   "cell_type": "code",
   "execution_count": null,
   "metadata": {},
   "outputs": [],
   "source": []
  },
  {
   "cell_type": "code",
   "execution_count": null,
   "metadata": {},
   "outputs": [],
   "source": []
  }
 ],
 "metadata": {
  "kernelspec": {
   "display_name": "Python 3",
   "language": "python",
   "name": "python3"
  },
  "language_info": {
   "codemirror_mode": {
    "name": "ipython",
    "version": 3
   },
   "file_extension": ".py",
   "mimetype": "text/x-python",
   "name": "python",
   "nbconvert_exporter": "python",
   "pygments_lexer": "ipython3",
   "version": "3.11.3"
  },
  "orig_nbformat": 4
 },
 "nbformat": 4,
 "nbformat_minor": 2
}
