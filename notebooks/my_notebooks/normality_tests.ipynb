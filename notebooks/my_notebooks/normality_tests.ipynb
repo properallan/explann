{
 "cells": [
  {
   "attachments": {},
   "cell_type": "markdown",
   "metadata": {},
   "source": [
    "# Normality test"
   ]
  },
  {
   "cell_type": "code",
   "execution_count": 2,
   "metadata": {},
   "outputs": [],
   "source": [
    "from scipy.stats import anderson, shapiro, kstest, norm, tstd\n",
    "import numpy as np\n",
    "from numba import jit\n",
    "\n",
    "def percentil(x):\n",
    "    return np.array([((i+1)-3/8)/(len(x)+1/4) for i in range(len(x))])\n",
    "\n",
    "class NormalityTest:\n",
    "    def __init__(self):\n",
    "        pass\n",
    "\n",
    "    def anderson_darling(self, data):\n",
    "        ad = anderson(data, dist='norm')\n",
    "        return ad.statistic\n",
    "    \n",
    "    def shapiro_wilk(self, data):\n",
    "        sw =  shapiro(data)\n",
    "        return sw.statistic, sw.pvalue\n",
    "    \n",
    "    def kolmogorov_smirnov(self, data):\n",
    "        ks = kstest(rvs=data, cdf=norm.cdf)\n",
    "        return ks.statistic, ks.pvalue\n",
    "    \n",
    "    def ryan_joiner(self, data):\n",
    "        data = np.sort(data)\n",
    "        z = norm.ppf(percentil(data))\n",
    "\n",
    "        # critical value\n",
    "        cv = lambda n: 1.0063 - 0.1288/np.sqrt(n) - 0.6118/n + 0.13505/n**2\n",
    "\n",
    "        # test statistic\n",
    "        r = np.sum(data*z)/np.sqrt( tstd(data)**2 * (len(data)-1) * np.sum(z**2) )\n",
    "        r = 1/r\n",
    "            \n",
    "        return r\n",
    "    \n",
    "\n",
    "def p_value(test, data, N=10_000):\n",
    "    R = np.zeros(N)\n",
    "    r = test(data)\n",
    "\n",
    "    for i in range(N):\n",
    "        R[i] = test(\n",
    "            np.random.normal(\n",
    "                loc= np.mean(data),\n",
    "                scale = np.std(data),\n",
    "                size= len(data)\n",
    "            )\n",
    "        )\n",
    "\n",
    "    p = len(R[R>r])/len(R)\n",
    "    return p, R, r\n"
   ]
  },
  {
   "cell_type": "markdown",
   "metadata": {},
   "source": [
    "Anderson-Darling,\n",
    "Shapiro-Wilk,\n",
    "Ryan-Joiner,\n",
    "Kolmogorov-Smirnov."
   ]
  },
  {
   "attachments": {},
   "cell_type": "markdown",
   "metadata": {},
   "source": [
    "# Data"
   ]
  },
  {
   "cell_type": "code",
   "execution_count": 3,
   "metadata": {},
   "outputs": [
    {
     "data": {
      "text/plain": [
       "['GRÁFICO EFEITO',\n",
       " 'GRÁFICO INTERAÇÕES',\n",
       " 'TESTE NORMALIDADE',\n",
       " 'TESTE t  AMSOTRA ÚNICA',\n",
       " 'TESTE t DUAS AMOSTRAS',\n",
       " 'TESTE t PAREADO']"
      ]
     },
     "execution_count": 3,
     "metadata": {},
     "output_type": "execute_result"
    }
   ],
   "source": [
    "import pandas as pd\n",
    "\n",
    "data_excel = pd.ExcelFile('/home/ppiper/Dropbox/local/github/explain/data/DADOS DOE 1.xlsx')\n",
    "data_excel.sheet_names"
   ]
  },
  {
   "cell_type": "code",
   "execution_count": 4,
   "metadata": {},
   "outputs": [
    {
     "data": {
      "text/html": [
       "<div>\n",
       "<style scoped>\n",
       "    .dataframe tbody tr th:only-of-type {\n",
       "        vertical-align: middle;\n",
       "    }\n",
       "\n",
       "    .dataframe tbody tr th {\n",
       "        vertical-align: top;\n",
       "    }\n",
       "\n",
       "    .dataframe thead th {\n",
       "        text-align: right;\n",
       "    }\n",
       "</style>\n",
       "<table border=\"1\" class=\"dataframe\">\n",
       "  <thead>\n",
       "    <tr style=\"text-align: right;\">\n",
       "      <th></th>\n",
       "      <th>Dados</th>\n",
       "    </tr>\n",
       "  </thead>\n",
       "  <tbody>\n",
       "    <tr>\n",
       "      <th>0</th>\n",
       "      <td>148.0</td>\n",
       "    </tr>\n",
       "    <tr>\n",
       "      <th>1</th>\n",
       "      <td>154.0</td>\n",
       "    </tr>\n",
       "    <tr>\n",
       "      <th>2</th>\n",
       "      <td>158.0</td>\n",
       "    </tr>\n",
       "    <tr>\n",
       "      <th>3</th>\n",
       "      <td>160.0</td>\n",
       "    </tr>\n",
       "    <tr>\n",
       "      <th>4</th>\n",
       "      <td>161.0</td>\n",
       "    </tr>\n",
       "    <tr>\n",
       "      <th>5</th>\n",
       "      <td>162.0</td>\n",
       "    </tr>\n",
       "    <tr>\n",
       "      <th>6</th>\n",
       "      <td>166.0</td>\n",
       "    </tr>\n",
       "    <tr>\n",
       "      <th>7</th>\n",
       "      <td>170.0</td>\n",
       "    </tr>\n",
       "    <tr>\n",
       "      <th>8</th>\n",
       "      <td>182.0</td>\n",
       "    </tr>\n",
       "    <tr>\n",
       "      <th>9</th>\n",
       "      <td>195.0</td>\n",
       "    </tr>\n",
       "    <tr>\n",
       "      <th>10</th>\n",
       "      <td>236.0</td>\n",
       "    </tr>\n",
       "  </tbody>\n",
       "</table>\n",
       "</div>"
      ],
      "text/plain": [
       "    Dados\n",
       "0   148.0\n",
       "1   154.0\n",
       "2   158.0\n",
       "3   160.0\n",
       "4   161.0\n",
       "5   162.0\n",
       "6   166.0\n",
       "7   170.0\n",
       "8   182.0\n",
       "9   195.0\n",
       "10  236.0"
      ]
     },
     "execution_count": 4,
     "metadata": {},
     "output_type": "execute_result"
    }
   ],
   "source": [
    "data = data_excel.parse('TESTE NORMALIDADE', usecols='A').dropna()\n",
    "#data = data_excel.parse('TESTE t  AMSOTRA ÚNICA', usecols='A').dropna()\n",
    "data"
   ]
  },
  {
   "cell_type": "code",
   "execution_count": 5,
   "metadata": {},
   "outputs": [],
   "source": [
    "nt = NormalityTest()\n"
   ]
  },
  {
   "cell_type": "code",
   "execution_count": 6,
   "metadata": {},
   "outputs": [
    {
     "data": {
      "text/plain": [
       "0.946771879598888"
      ]
     },
     "execution_count": 6,
     "metadata": {},
     "output_type": "execute_result"
    }
   ],
   "source": [
    "\n",
    "nt.anderson_darling(data.values.flatten())"
   ]
  },
  {
   "cell_type": "code",
   "execution_count": 7,
   "metadata": {},
   "outputs": [
    {
     "data": {
      "text/plain": [
       "(0.0096,\n",
       " array([0.323961  , 0.19446256, 0.22698405, ..., 0.58129747, 0.35870835,\n",
       "        0.35040328]),\n",
       " 0.946771879598888)"
      ]
     },
     "execution_count": 7,
     "metadata": {},
     "output_type": "execute_result"
    }
   ],
   "source": [
    "p_value(nt.anderson_darling, data.values.flatten())"
   ]
  },
  {
   "cell_type": "code",
   "execution_count": 8,
   "metadata": {},
   "outputs": [
    {
     "data": {
      "text/plain": [
       "(1.0, 0.0)"
      ]
     },
     "execution_count": 8,
     "metadata": {},
     "output_type": "execute_result"
    }
   ],
   "source": [
    "nt.kolmogorov_smirnov(data.values.flatten())"
   ]
  },
  {
   "cell_type": "code",
   "execution_count": 70,
   "metadata": {},
   "outputs": [
    {
     "data": {
      "text/plain": [
       "KstestResult(statistic=1.0, pvalue=2.835142154027603e-06, statistic_location=0.996428690478421, statistic_sign=-1)"
      ]
     },
     "execution_count": 70,
     "metadata": {},
     "output_type": "execute_result"
    }
   ],
   "source": [
    "from scipy.stats import t\n",
    "kstest(data.values.flatten(),\n",
    "       #cdf = norm.cdf, \n",
    "       #cdf = np.random.normal(\n",
    "       #         loc= 0,\n",
    "       #         scale = 1,\n",
    "       #         size= len(data.values.flatten()))\n",
    "       cdf = norm.cdf(data.values.flatten(), loc=np.mean(data.values.flatten()), scale=np.std(data.values.flatten()))\n",
    "       #args=(np.mean(data.values.flatten()), np.std(data.values.flatten())), \n",
    "       #args = (\n",
    "       #    np.mean(data.values.flatten()),\n",
    "       #    np.std( data.values.flatten(),         \n",
    "       #       #ddof=len(data.values.flatten())-1\n",
    "       #    ),\n",
    "       #),\n",
    "       #cdf = norm.cdf, #args=(np.mean(data.values.flatten()), np.std(data.values.flatten())),\n",
    "       #\"t\",\n",
    "       #(len(data.values.flatten()),),\n",
    "      )"
   ]
  },
  {
   "cell_type": "code",
   "execution_count": 66,
   "metadata": {},
   "outputs": [
    {
     "data": {
      "text/plain": [
       "array([1.79346798e-10, 2.99797404e-09, 3.38617650e-08, 1.46070441e-07,\n",
       "       3.29615568e-07, 7.94776588e-07, 6.60544302e-05, 3.66940174e-02,\n",
       "       9.99999205e-01, 1.00000000e+00, 1.00000000e+00])"
      ]
     },
     "execution_count": 66,
     "metadata": {},
     "output_type": "execute_result"
    }
   ],
   "source": [
    "t.cdf(data.values.flatten(), len(data.values.flatten())-1, loc=np.mean(data.values.flatten()), scale=np.std(data.values.flatten()))"
   ]
  },
  {
   "cell_type": "code",
   "execution_count": 38,
   "metadata": {},
   "outputs": [
    {
     "data": {
      "text/plain": [
       "(0.7888147830963135, 0.006703833118081093)"
      ]
     },
     "execution_count": 38,
     "metadata": {},
     "output_type": "execute_result"
    }
   ],
   "source": [
    "# pvalue=0.006703833118081093\n",
    "nt.shapiro_wilk(data.values.flatten())\n"
   ]
  },
  {
   "cell_type": "code",
   "execution_count": 39,
   "metadata": {},
   "outputs": [
    {
     "data": {
      "text/plain": [
       "1.1385844985498723"
      ]
     },
     "execution_count": 39,
     "metadata": {},
     "output_type": "execute_result"
    }
   ],
   "source": [
    "rj = nt.ryan_joiner(data.values.flatten())\n",
    "rj"
   ]
  },
  {
   "cell_type": "code",
   "execution_count": 40,
   "metadata": {},
   "outputs": [
    {
     "data": {
      "text/plain": [
       "(0.0074,\n",
       " array([1.03722052, 1.04432793, 1.02443816, ..., 1.06013863, 1.05463379,\n",
       "        1.01571637]),\n",
       " 1.1385844985498723)"
      ]
     },
     "execution_count": 40,
     "metadata": {},
     "output_type": "execute_result"
    }
   ],
   "source": [
    "p_value(nt.ryan_joiner, data.values.flatten())"
   ]
  },
  {
   "cell_type": "code",
   "execution_count": null,
   "metadata": {},
   "outputs": [],
   "source": []
  }
 ],
 "metadata": {
  "kernelspec": {
   "display_name": "Python 3",
   "language": "python",
   "name": "python3"
  },
  "language_info": {
   "codemirror_mode": {
    "name": "ipython",
    "version": 3
   },
   "file_extension": ".py",
   "mimetype": "text/x-python",
   "name": "python",
   "nbconvert_exporter": "python",
   "pygments_lexer": "ipython3",
   "version": "3.11.3"
  },
  "orig_nbformat": 4
 },
 "nbformat": 4,
 "nbformat_minor": 2
}
